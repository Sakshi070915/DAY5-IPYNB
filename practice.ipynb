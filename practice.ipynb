{
 "cells": [
  {
   "cell_type": "code",
   "execution_count": 1,
   "metadata": {},
   "outputs": [
    {
     "name": "stdout",
     "output_type": "stream",
     "text": [
      "It's not a leap year\n"
     ]
    }
   ],
   "source": [
    "year = int(input(\"Enter the year:\"))\n",
    "if year%4==0:\n",
    "    if year%100==0:\n",
    "        if year%400==0:\n",
    "            print(\"It's a leap year\")\n",
    "        else:\n",
    "            print(\"It's not a leap year\")\n",
    "    else:\n",
    "        print(\"It's a leap year\")\n",
    "else:\n",
    "    print(\"It's not a leap year\")"
   ]
  },
  {
   "cell_type": "code",
   "execution_count": 2,
   "metadata": {},
   "outputs": [
    {
     "name": "stdout",
     "output_type": "stream",
     "text": [
      "i= 0 j= 0\n",
      "i= 0 j= 1\n",
      "i= 0 j= 2\n",
      "i= 0 j= 3\n",
      "i= 0 j= 4\n",
      "i= 1 j= 0\n",
      "i= 1 j= 1\n",
      "i= 1 j= 2\n",
      "i= 1 j= 3\n",
      "i= 1 j= 4\n",
      "i= 2 j= 0\n",
      "i= 2 j= 1\n",
      "i= 2 j= 2\n",
      "i= 2 j= 3\n",
      "i= 2 j= 4\n"
     ]
    }
   ],
   "source": [
    "for i in range(3):\n",
    "    for j in range (5):\n",
    "        print(\"i=\",i,\"j=\",j)"
   ]
  },
  {
   "cell_type": "code",
   "execution_count": 3,
   "metadata": {},
   "outputs": [
    {
     "name": "stdout",
     "output_type": "stream",
     "text": [
      "i=0,j=0\n",
      "i=0,j=1\n",
      "i=0,j=2\n",
      "i=0,j=3\n",
      "i=0,j=4\n",
      "i=1,j=0\n",
      "i=1,j=1\n",
      "i=1,j=2\n",
      "i=1,j=3\n",
      "i=1,j=4\n",
      "i=2,j=0\n",
      "i=2,j=1\n",
      "i=2,j=2\n",
      "i=2,j=3\n",
      "i=2,j=4\n"
     ]
    }
   ],
   "source": [
    "for i in range(3):\n",
    "    for j in range (5):\n",
    "        print(f'i={i},j={j}')"
   ]
  },
  {
   "cell_type": "code",
   "execution_count": 8,
   "metadata": {},
   "outputs": [
    {
     "name": "stdout",
     "output_type": "stream",
     "text": [
      "apple orange mango "
     ]
    }
   ],
   "source": [
    "fruits = (\"apple\",\"orange\",\"mango\")\n",
    "for x in fruits:\n",
    "    print(x,end=' ')"
   ]
  },
  {
   "cell_type": "code",
   "execution_count": 9,
   "metadata": {},
   "outputs": [
    {
     "name": "stdout",
     "output_type": "stream",
     "text": [
      "H\n",
      "e\n",
      "l\n",
      "l\n",
      "o\n",
      " \n",
      "W\n",
      "o\n",
      "r\n",
      "l\n",
      "d\n"
     ]
    }
   ],
   "source": [
    "str = \"Hello World\"\n",
    "for x in str:\n",
    "    print(x)"
   ]
  },
  {
   "cell_type": "code",
   "execution_count": 17,
   "metadata": {},
   "outputs": [
    {
     "name": "stdout",
     "output_type": "stream",
     "text": [
      "0 program\n",
      "1 program\n",
      "2 program\n",
      "3 program\n"
     ]
    }
   ],
   "source": [
    "for x in range(4):\n",
    "    print(x,end = ' ')\n",
    "    print(\"program\")"
   ]
  },
  {
   "cell_type": "code",
   "execution_count": 13,
   "metadata": {},
   "outputs": [
    {
     "name": "stdout",
     "output_type": "stream",
     "text": [
      "[0, 1, 2, 3, 4, 5, 6, 7, 8, 9]\n"
     ]
    }
   ],
   "source": [
    "l = list(range(10))\n",
    "print(l)"
   ]
  },
  {
   "cell_type": "code",
   "execution_count": 18,
   "metadata": {},
   "outputs": [
    {
     "name": "stdout",
     "output_type": "stream",
     "text": [
      "The sum is 1\n",
      "The sum is 3\n",
      "The sum is 6\n",
      "The sum is 10\n"
     ]
    }
   ],
   "source": [
    "sum = 0\n",
    "for x in range(1,5):\n",
    "    sum = sum+x\n",
    "    print(f\"The sum is {sum}\")"
   ]
  },
  {
   "cell_type": "code",
   "execution_count": 22,
   "metadata": {},
   "outputs": [
    {
     "name": "stdout",
     "output_type": "stream",
     "text": [
      "apple\n",
      "mango\n"
     ]
    }
   ],
   "source": [
    "fruits = [\"apple\",\"mango\",\"cherry\"]\n",
    "for x in fruits:\n",
    "    print(x)\n",
    "    if x == \"mango\":\n",
    "        break"
   ]
  },
  {
   "cell_type": "code",
   "execution_count": 9,
   "metadata": {},
   "outputs": [
    {
     "name": "stdout",
     "output_type": "stream",
     "text": [
      "apple\n"
     ]
    }
   ],
   "source": [
    "fruits = ['apple','cherry','kiwi']\n",
    "for x in fruits:\n",
    "    if x == 'cherry':\n",
    "        break\n",
    "    print(x)"
   ]
  },
  {
   "cell_type": "code",
   "execution_count": 30,
   "metadata": {},
   "outputs": [
    {
     "name": "stdout",
     "output_type": "stream",
     "text": [
      " The no. is 2\n",
      " The no. is 4\n",
      " The no. is 6\n",
      " The no. is 8\n"
     ]
    }
   ],
   "source": [
    "n = 0\n",
    "while n<=8:\n",
    "    n+=1\n",
    "    if n%2 != 0:\n",
    "        continue\n",
    "    print(f\" The no. is {n}\")\n",
    "   "
   ]
  },
  {
   "cell_type": "code",
   "execution_count": 34,
   "metadata": {},
   "outputs": [
    {
     "name": "stdout",
     "output_type": "stream",
     "text": [
      "The factorial is 5\n",
      "The factorial is 20\n",
      "The factorial is 60\n",
      "The factorial is 120\n"
     ]
    }
   ],
   "source": [
    "product = 1\n",
    "for x in range(5,1,-1):\n",
    "    product = product*x\n",
    "    print(f\"The factorial is {product}\")"
   ]
  },
  {
   "cell_type": "code",
   "execution_count": 5,
   "metadata": {},
   "outputs": [
    {
     "name": "stdout",
     "output_type": "stream",
     "text": [
      "Factorial is 3628800\n"
     ]
    }
   ],
   "source": [
    "# accept input number from user\n",
    "n = int(input(\"Enter any number: \"))\n",
    "\n",
    "# logic to calculate the factorial of a number\n",
    "f = 1\n",
    "while n >= 1:\n",
    "    f *= n\n",
    "    n -= 1\n",
    "\n",
    "# print output\n",
    "print(\"Factorial is\", f)"
   ]
  },
  {
   "cell_type": "code",
   "execution_count": 10,
   "metadata": {},
   "outputs": [
    {
     "name": "stdout",
     "output_type": "stream",
     "text": [
      "The factorial is 6\n"
     ]
    }
   ],
   "source": [
    "n = int(input(\"Enter a number:\"))\n",
    "f = 1\n",
    "if n<=0:\n",
    "    print(\"please enter a positive number\")\n",
    "elif n==0:\n",
    "    print(\"The factorial of 0 is 1\")\n",
    "else:\n",
    "    while n>=1:\n",
    "        f*=n\n",
    "        n-=1\n",
    "    print(\"The factorial is\",f)"
   ]
  },
  {
   "cell_type": "code",
   "execution_count": 4,
   "metadata": {},
   "outputs": [
    {
     "name": "stdout",
     "output_type": "stream",
     "text": [
      "The sum is  10\n"
     ]
    }
   ],
   "source": [
    "i=1\n",
    "sum = 0 \n",
    "while i<=4:\n",
    "    sum = sum+i\n",
    "    i = i+1\n",
    "print(\"The sum is \", sum)\n",
    "    "
   ]
  },
  {
   "cell_type": "code",
   "execution_count": 10,
   "metadata": {},
   "outputs": [
    {
     "name": "stdout",
     "output_type": "stream",
     "text": [
      "acess denied, try again\n",
      "acess granted\n"
     ]
    }
   ],
   "source": [
    "count = 0\n",
    "while count<3:\n",
    "    name,passwd = input(\"Enter the name and passwd:\").split()\n",
    "    if name =='stud' and passwd =='pass':\n",
    "        print(\"acess granted\")\n",
    "        break\n",
    "    else:\n",
    "        if count==2:\n",
    "            print(\"Sorry, attempts completed\")\n",
    "        else:\n",
    "            print(\"acess denied, try again\")\n",
    "        count+=1\n",
    "        "
   ]
  },
  {
   "cell_type": "code",
   "execution_count": 3,
   "metadata": {},
   "outputs": [
    {
     "name": "stdout",
     "output_type": "stream",
     "text": [
      "h-e-l-l-o- -w-o-r-l-d- -i-e-u-i-j-s-i-j-i-a-j-i-s-j-i-s-j-s-j-s-i-j-i-s-j-i-s-j-i-s-j-i-j-i-s-j-i-s-j-i-s-j-i-s-j-s-i-i-s-j-i-j-i-j-j-i-i-j-i-j-i-j-i-j-i-j-i-j-i-j-i-j-i-j-i-j-i\n"
     ]
    }
   ],
   "source": [
    "str = input(\"Enter the String\")\n",
    "print('-'.join(str))"
   ]
  },
  {
   "cell_type": "code",
   "execution_count": 5,
   "metadata": {},
   "outputs": [
    {
     "name": "stdout",
     "output_type": "stream",
     "text": [
      "[7, 8, 9]\n"
     ]
    }
   ],
   "source": [
    "ls = [9,7,8]\n",
    "ls.sort()\n",
    "print(ls)"
   ]
  },
  {
   "cell_type": "code",
   "execution_count": 10,
   "metadata": {},
   "outputs": [
    {
     "name": "stdout",
     "output_type": "stream",
     "text": [
      "[6, 0, 7]\n"
     ]
    }
   ],
   "source": [
    "ls = [7,6,0]\n",
    "ls = [ls[1],ls[2],ls[0]]\n",
    "print(ls)"
   ]
  },
  {
   "cell_type": "code",
   "execution_count": 25,
   "metadata": {},
   "outputs": [
    {
     "name": "stdout",
     "output_type": "stream",
     "text": [
      "[5, 8, 9]\n",
      "[9, 8, 5]\n"
     ]
    }
   ],
   "source": [
    "a = [9,8,5]\n",
    "b = sorted(a)\n",
    "print(b)\n",
    "print(a)"
   ]
  },
  {
   "cell_type": "code",
   "execution_count": 28,
   "metadata": {},
   "outputs": [
    {
     "name": "stdout",
     "output_type": "stream",
     "text": [
      "[3, 5, 9]\n",
      "[9, 3, 5]\n"
     ]
    }
   ],
   "source": [
    "a = [9,3,5]\n",
    "print(sorted(a))\n",
    "print(a)"
   ]
  },
  {
   "cell_type": "markdown",
   "metadata": {},
   "source": [
    "FUNCTIONS AND MODULE"
   ]
  },
  {
   "cell_type": "code",
   "execution_count": 2,
   "metadata": {},
   "outputs": [
    {
     "name": "stdout",
     "output_type": "stream",
     "text": [
      "Happy Birthday\n"
     ]
    }
   ],
   "source": [
    "def a():\n",
    "    print(\"Happy Birthday\")\n",
    "a()"
   ]
  },
  {
   "cell_type": "code",
   "execution_count": 34,
   "metadata": {},
   "outputs": [
    {
     "name": "stdout",
     "output_type": "stream",
     "text": [
      "2 is Even number\n",
      "5 is Odd number\n"
     ]
    }
   ],
   "source": [
    "def b(num):\n",
    "    if num%2==0:\n",
    "        print (num, \"is Even number\")\n",
    "    else:\n",
    "        print (num, \"is Odd number\")\n",
    "b(2)\n",
    "b(5)\n"
   ]
  },
  {
   "cell_type": "code",
   "execution_count": 45,
   "metadata": {},
   "outputs": [
    {
     "name": "stdout",
     "output_type": "stream",
     "text": [
      "15\n",
      "The sum is: 10\n",
      "The sum is: 10\n"
     ]
    }
   ],
   "source": [
    "#1\n",
    "def c(num1,num2):\n",
    "    print(num1+num2)\n",
    "c(6,9)\n",
    "#2\n",
    "def c(num1,num2):\n",
    "    d = num1+num2\n",
    "    return d\n",
    "d = c(6,4)\n",
    "print(\"The sum is:\",d)\n",
    "#3 Perfect\n",
    "def c(num1,num2):\n",
    "    d = num1+num2\n",
    "    return d\n",
    "c(7,9)\n",
    "print(\"The sum is:\",d)"
   ]
  },
  {
   "cell_type": "code",
   "execution_count": 44,
   "metadata": {},
   "outputs": [
    {
     "name": "stdout",
     "output_type": "stream",
     "text": [
      "The Sum is: 136\n",
      "The difference is: -38\n"
     ]
    }
   ],
   "source": [
    "def sum_sub(a,b):\n",
    "    add = a+b\n",
    "    sub = a-b\n",
    "    return add,sub\n",
    "add,sub = sum_sub(49,87)\n",
    "print(\"The Sum is:\",add)\n",
    "print(\"The difference is:\",sub)\n"
   ]
  },
  {
   "cell_type": "code",
   "execution_count": 19,
   "metadata": {},
   "outputs": [
    {
     "name": "stdout",
     "output_type": "stream",
     "text": [
      "136\n",
      "-38\n",
      "The Sum is: 136\n",
      "The difference is: -38\n"
     ]
    }
   ],
   "source": [
    "def sum_sub(a,b):\n",
    "    add = a+b\n",
    "    sub = a-b\n",
    "    return add,sub\n",
    "a=sum_sub(49,87)\n",
    "for i in a:\n",
    "    print(i)\n",
    "print(\"The Sum is:\",x)\n",
    "print(\"The difference is:\",y)\n"
   ]
  },
  {
   "cell_type": "code",
   "execution_count": 13,
   "metadata": {},
   "outputs": [
    {
     "data": {
      "text/plain": [
       "False"
      ]
     },
     "execution_count": 13,
     "metadata": {},
     "output_type": "execute_result"
    }
   ],
   "source": [
    "def log_message(message, log_level):\n",
    "    if log_level not in [\"INFO\", \"WARNING\", \"ERROR\"]:\n",
    "        return False  # Early exit if log_level is invalid, implicitly returns None\n",
    "    # Proceed with logging the message if log_level is valid\n",
    "    print(f\"[{log_level}]: {message}\")\n",
    "log_message(\"This is a test message\",\"Info\")"
   ]
  },
  {
   "cell_type": "code",
   "execution_count": 23,
   "metadata": {},
   "outputs": [
    {
     "name": "stdout",
     "output_type": "stream",
     "text": [
      "The validate age is: False\n"
     ]
    }
   ],
   "source": [
    "def validate_age(age):\n",
    "\t# validate that age is a number or converts to a number\n",
    "\tif age == float(age) or age != int(age):\n",
    "\t\treturn False\n",
    "\telif age < 0:\n",
    "\t\treturn False\n",
    "\telif age > 120:\n",
    "\t\treturn False\n",
    "\telse:\n",
    "\t\treturn True # if none of the conditions trigger, return True\n",
    "age=validate_age(5)\n",
    "print(\"The validate age is:\",age)"
   ]
  },
  {
   "cell_type": "code",
   "execution_count": 37,
   "metadata": {},
   "outputs": [
    {
     "name": "stdout",
     "output_type": "stream",
     "text": [
      "The addition,substraction,multiplication,division are:\n",
      "(130, 70, 3000, 3.3333333333333335)\n"
     ]
    }
   ],
   "source": [
    "def calc(a,b):\n",
    "    add = a+b\n",
    "    sub = a-b\n",
    "    mult = a*b\n",
    "    div = a/b\n",
    "    return add,sub,mult,div\n",
    "t = calc(100,30)\n",
    "print(\"The addition,substraction,multiplication,division are:\")\n",
    "print (t)"
   ]
  },
  {
   "cell_type": "code",
   "execution_count": 39,
   "metadata": {},
   "outputs": [
    {
     "name": "stdout",
     "output_type": "stream",
     "text": [
      "The addition,substraction,multiplication,division are:\n",
      "130\n",
      "70\n",
      "3000\n",
      "3.3333333333333335\n"
     ]
    }
   ],
   "source": [
    "def calc(a,b):\n",
    "    add = a+b\n",
    "    sub = a-b\n",
    "    mult = a*b\n",
    "    div = a/b\n",
    "    return add,sub,mult,div\n",
    "t = calc(100,30)\n",
    "print(\"The addition,substraction,multiplication,division are:\")\n",
    "for i in t:\n",
    "    print(i)"
   ]
  },
  {
   "cell_type": "code",
   "execution_count": 47,
   "metadata": {},
   "outputs": [
    {
     "name": "stdout",
     "output_type": "stream",
     "text": [
      "The factoial of 1 is: 1\n",
      "The factoial of 2 is: 2\n",
      "The factoial of 3 is: 6\n",
      "The factoial of 4 is: 24\n"
     ]
    }
   ],
   "source": [
    "def fact(num):\n",
    "    result = 1\n",
    "    while num>=1:\n",
    "        result = result*num\n",
    "        num = num-1\n",
    "    return result\n",
    "for i in range(1,5):\n",
    "    print(\"The factoial of\",i,\"is:\",fact(i))"
   ]
  },
  {
   "cell_type": "code",
   "execution_count": 94,
   "metadata": {},
   "outputs": [
    {
     "name": "stdout",
     "output_type": "stream",
     "text": [
      "No. of uppercase character: 1\n",
      "No. of lowercase character: 7\n",
      "hI WORLD\n"
     ]
    }
   ],
   "source": [
    "def upper_lower(a):\n",
    "    upp = 0\n",
    "    low = 0\n",
    "    newa = ''\n",
    "    for i in a:\n",
    "        if i.isupper():\n",
    "            upp+=1\n",
    "            newa+=(i.lower())\n",
    "        else:\n",
    "            low+=1\n",
    "            newa+=(i.upper())\n",
    "    return upp,low,newa\n",
    "a = input(\"Enter a string:\")\n",
    "u,l,o = upper_lower(a)\n",
    "print(\"No. of uppercase character:\",u)\n",
    "print(\"No. of lowercase character:\",l)\n",
    "print(o)\n",
    "\n",
    "    "
   ]
  },
  {
   "cell_type": "code",
   "execution_count": 48,
   "metadata": {},
   "outputs": [
    {
     "name": "stdout",
     "output_type": "stream",
     "text": [
      "Hello, Rishi Nice to meet you\n"
     ]
    }
   ],
   "source": [
    "def a(name,msg):\n",
    "    print(\"Hello,\",name,msg)\n",
    "c = a(\"Rishi\",\"Nice to meet you\")"
   ]
  },
  {
   "cell_type": "code",
   "execution_count": 54,
   "metadata": {},
   "outputs": [
    {
     "name": "stdout",
     "output_type": "stream",
     "text": [
      "12\n",
      "22\n"
     ]
    }
   ],
   "source": [
    "def b(a,c):\n",
    "    print(a+c)\n",
    "d = b(3,9)\n",
    "d = b(10,12)\n",
    "d = ()"
   ]
  },
  {
   "cell_type": "code",
   "execution_count": 58,
   "metadata": {},
   "outputs": [
    {
     "ename": "TypeError",
     "evalue": "b() missing 1 required positional argument: 'c'",
     "output_type": "error",
     "traceback": [
      "\u001b[0;31m---------------------------------------------------------------------------\u001b[0m",
      "\u001b[0;31mTypeError\u001b[0m                                 Traceback (most recent call last)",
      "Cell \u001b[0;32mIn[58], line 3\u001b[0m\n\u001b[1;32m      1\u001b[0m \u001b[38;5;28;01mdef\u001b[39;00m \u001b[38;5;21mb\u001b[39m(a,c):\n\u001b[1;32m      2\u001b[0m     \u001b[38;5;28mprint\u001b[39m(a\u001b[38;5;241m+\u001b[39mc)\n\u001b[0;32m----> 3\u001b[0m d \u001b[38;5;241m=\u001b[39m \u001b[43mb\u001b[49m\u001b[43m(\u001b[49m\u001b[38;5;241;43m3\u001b[39;49m\u001b[43m)\u001b[49m\n",
      "\u001b[0;31mTypeError\u001b[0m: b() missing 1 required positional argument: 'c'"
     ]
    }
   ],
   "source": [
    "def b(a,c):\n",
    "    print(a+c)\n",
    "d = b(3)"
   ]
  },
  {
   "cell_type": "code",
   "execution_count": 62,
   "metadata": {},
   "outputs": [
    {
     "name": "stdout",
     "output_type": "stream",
     "text": [
      "The subject is Maths and marks obtained is 40\n"
     ]
    },
    {
     "ename": "TypeError",
     "evalue": "%d format: a number is required, not str",
     "output_type": "error",
     "traceback": [
      "\u001b[0;31m---------------------------------------------------------------------------\u001b[0m",
      "\u001b[0;31mTypeError\u001b[0m                                 Traceback (most recent call last)",
      "Cell \u001b[0;32mIn[62], line 4\u001b[0m\n\u001b[1;32m      2\u001b[0m     \u001b[38;5;28mprint\u001b[39m(\u001b[38;5;124m\"\u001b[39m\u001b[38;5;124mThe subject is \u001b[39m\u001b[38;5;132;01m%s\u001b[39;00m\u001b[38;5;124m and marks obtained is \u001b[39m\u001b[38;5;132;01m%d\u001b[39;00m\u001b[38;5;124m\"\u001b[39m \u001b[38;5;241m%\u001b[39m(subject,marks))\n\u001b[1;32m      3\u001b[0m a \u001b[38;5;241m=\u001b[39m marklst(\u001b[38;5;124m\"\u001b[39m\u001b[38;5;124mMaths\u001b[39m\u001b[38;5;124m\"\u001b[39m,\u001b[38;5;241m40\u001b[39m)\n\u001b[0;32m----> 4\u001b[0m a \u001b[38;5;241m=\u001b[39m \u001b[43mmarklst\u001b[49m\u001b[43m(\u001b[49m\u001b[38;5;241;43m10\u001b[39;49m\u001b[43m,\u001b[49m\u001b[38;5;124;43m\"\u001b[39;49m\u001b[38;5;124;43mScience\u001b[39;49m\u001b[38;5;124;43m\"\u001b[39;49m\u001b[43m)\u001b[49m\n",
      "Cell \u001b[0;32mIn[62], line 2\u001b[0m, in \u001b[0;36mmarklst\u001b[0;34m(subject, marks)\u001b[0m\n\u001b[1;32m      1\u001b[0m \u001b[38;5;28;01mdef\u001b[39;00m \u001b[38;5;21mmarklst\u001b[39m(subject,marks):\n\u001b[0;32m----> 2\u001b[0m     \u001b[38;5;28mprint\u001b[39m(\u001b[38;5;124;43m\"\u001b[39;49m\u001b[38;5;124;43mThe subject is \u001b[39;49m\u001b[38;5;132;43;01m%s\u001b[39;49;00m\u001b[38;5;124;43m and marks obtained is \u001b[39;49m\u001b[38;5;132;43;01m%d\u001b[39;49;00m\u001b[38;5;124;43m\"\u001b[39;49m\u001b[43m \u001b[49m\u001b[38;5;241;43m%\u001b[39;49m\u001b[43m(\u001b[49m\u001b[43msubject\u001b[49m\u001b[43m,\u001b[49m\u001b[43mmarks\u001b[49m\u001b[43m)\u001b[49m)\n",
      "\u001b[0;31mTypeError\u001b[0m: %d format: a number is required, not str"
     ]
    }
   ],
   "source": [
    "def marklst(subject,marks):\n",
    "    print(\"The subject is %s and marks obtained is %d\" %(subject,marks))\n",
    "a = marklst(\"Maths\",40)\n",
    "a = marklst(10,\"Science\")"
   ]
  },
  {
   "cell_type": "code",
   "execution_count": 65,
   "metadata": {},
   "outputs": [
    {
     "name": "stdout",
     "output_type": "stream",
     "text": [
      "{'notebook': 4}\n",
      "{'notebook': 4, 'pencil': 1}\n",
      "{'notebook': 4, 'pencil': 1, 'eraser': 1}\n"
     ]
    }
   ],
   "source": [
    "def addItemToDictionary(itemName, quantity, itemList = {}):\n",
    "    itemList[itemName] = quantity\n",
    "    return itemList\n",
    "\n",
    "\n",
    "print(addItemToDictionary('notebook', 4))\n",
    "print(addItemToDictionary('pencil', 1))\n",
    "print(addItemToDictionary('eraser', 1))"
   ]
  },
  {
   "cell_type": "code",
   "execution_count": 72,
   "metadata": {},
   "outputs": [
    {
     "name": "stdout",
     "output_type": "stream",
     "text": [
      "\n",
      "Data type of the argument is: <class 'dict'>\n",
      "Name is Sakshi Pokhriyal\n",
      "Age is 18\n",
      "Education is Btech First year\n",
      "Email is xyz.p@gmail.com\n"
     ]
    }
   ],
   "source": [
    "def func_kwarg(**data):\n",
    "    print(\"\\nData type of the argument is:\",type(data))\n",
    "    for key,value in data.items():\n",
    "        print(f\"{key} is {value}\")\n",
    "func_kwarg(Name = \"Sakshi Pokhriyal\",Age = 18, Education = \"Btech First year\",Email = \"xyz.p@gmail.com\")"
   ]
  },
  {
   "cell_type": "code",
   "execution_count": 97,
   "metadata": {},
   "outputs": [
    {
     "name": "stdout",
     "output_type": "stream",
     "text": [
      "***\n",
      "**\n",
      "*\n"
     ]
    }
   ],
   "source": [
    "rows = 3\n",
    "for i in range(rows,0,-1):\n",
    "    print('*' * i)\n"
   ]
  },
  {
   "cell_type": "code",
   "execution_count": 109,
   "metadata": {},
   "outputs": [
    {
     "name": "stdout",
     "output_type": "stream",
     "text": [
      "The name and list before calling the functions is Smith and [80, 55, 29]\n",
      "The name and list before calling the functions is Tom and [9, 55, 29]\n",
      "The name and list after calling the functions is Smith and [9, 55, 29]\n"
     ]
    }
   ],
   "source": [
    "def change(a,b):\n",
    "    a = \"Tom\"\n",
    "    b[0] = 9\n",
    "    print(f\"The name and list before calling the functions is {a} and {b}\")\n",
    "name = \"Smith\"\n",
    "lst = [80,55,29]\n",
    "print(f\"The name and list before calling the functions is {name} and {lst}\")\n",
    "change(name,lst)\n",
    "print(f\"The name and list after calling the functions is {name} and {lst}\")\n",
    "\n"
   ]
  },
  {
   "cell_type": "code",
   "execution_count": 113,
   "metadata": {},
   "outputs": [
    {
     "name": "stdout",
     "output_type": "stream",
     "text": [
      "Fibonacci series:\n",
      "[0, 1, 1, 2, 3, 5]\n"
     ]
    }
   ],
   "source": [
    "#Fibonacci Series\n",
    "def fibonacci_recursive(n):\n",
    "#Calculates the nth fibonacci number\n",
    "    if n<=1:\n",
    "        return n\n",
    "    else:\n",
    "        return fibonacci_recursive(n-1)+fibonacci_recursive(n-2)\n",
    "#To get the fibonacci series up to n terms\n",
    "def fibonacci_series(n):\n",
    "    return[fibonacci_recursive(i) for i in range(n)]\n",
    "n = int(input(\"Enter a number:\"))\n",
    "if n<0:\n",
    "    print(\"Enter a positive number\")\n",
    "else:\n",
    "    print(\"Fibonacci series:\")\n",
    "print(fibonacci_series(n))"
   ]
  },
  {
   "cell_type": "code",
   "execution_count": 114,
   "metadata": {},
   "outputs": [
    {
     "name": "stdout",
     "output_type": "stream",
     "text": [
      "factorial of 5 is 120\n"
     ]
    }
   ],
   "source": [
    "#Factorial \n",
    "def factorial(n):\n",
    "    if n==1:\n",
    "        return n\n",
    "    else:\n",
    "        return n*factorial(n-1)\n",
    "n = int(input(\"enter a number:\"))\n",
    "a = factorial(n)\n",
    "if n<0:\n",
    "    print(\"enter a positive number\")\n",
    "elif n==0:\n",
    "    print(\"factorial of 0 is 1\")\n",
    "else:\n",
    "    print(f\"factorial of {n} is {a}\")"
   ]
  },
  {
   "cell_type": "code",
   "execution_count": 117,
   "metadata": {},
   "outputs": [
    {
     "name": "stdout",
     "output_type": "stream",
     "text": [
      "Fibonacci Series: [0, 1, 1, 2, 3, 5, 8]\n"
     ]
    }
   ],
   "source": [
    "# Function to generate Fibonacci series up to n terms\n",
    "def fibonacci_iterative(n):\n",
    "    fib_sequence = [0, 1]  # Starting values of the sequence\n",
    "\n",
    "    # Loop to generate the sequence up to n terms\n",
    "    for i in range(2, n):\n",
    "        next_number = fib_sequence[i - 1] + fib_sequence[i - 2]\n",
    "        fib_sequence.append(next_number)\n",
    "    \n",
    "    return fib_sequence# Return only the first n terms\n",
    "\n",
    "# Input: Number of terms\n",
    "n = int(input(\"Enter the number of terms: \"))\n",
    "print(\"Fibonacci Series:\", fibonacci_iterative(n))\n"
   ]
  },
  {
   "cell_type": "code",
   "execution_count": 122,
   "metadata": {},
   "outputs": [
    {
     "data": {
      "text/plain": [
       "float"
      ]
     },
     "execution_count": 122,
     "metadata": {},
     "output_type": "execute_result"
    }
   ],
   "source": [
    "Height = 165.5\n",
    "Ht = int(Height)\n",
    "type (Ht)\n",
    "type(Height)\n"
   ]
  },
  {
   "cell_type": "code",
   "execution_count": 131,
   "metadata": {},
   "outputs": [
    {
     "data": {
      "text/plain": [
       "'hello world'"
      ]
     },
     "execution_count": 131,
     "metadata": {},
     "output_type": "execute_result"
    }
   ],
   "source": [
    "s= \"hello world\"\n",
    "s[0]\n",
    "s[:]"
   ]
  },
  {
   "cell_type": "code",
   "execution_count": 135,
   "metadata": {},
   "outputs": [
    {
     "name": "stdout",
     "output_type": "stream",
     "text": [
      "I have bought 6 Mangoes in Rs.250.60\n"
     ]
    }
   ],
   "source": [
    "num = 6\n",
    "fr = \"Mangoes\"\n",
    "cost = 250.6\n",
    "print(\"I have bought %i %s in Rs.%.2f\"%(num, fr, cost))"
   ]
  },
  {
   "cell_type": "code",
   "execution_count": 136,
   "metadata": {},
   "outputs": [
    {
     "name": "stdout",
     "output_type": "stream",
     "text": [
      "The sum and product is 7.0 and 12.0\n"
     ]
    }
   ],
   "source": [
    "a = float(input(\"enter a no.:\"))\n",
    "b = float(input(\"enter a number:\"))\n",
    "sum = a+b\n",
    "product = a*b\n",
    "print(f\"The sum and product is {sum} and {product}\")"
   ]
  },
  {
   "cell_type": "code",
   "execution_count": 141,
   "metadata": {},
   "outputs": [
    {
     "name": "stdout",
     "output_type": "stream",
     "text": [
      "The sum of first 3 number is 6\n"
     ]
    }
   ],
   "source": [
    "n = int(input(\"enter a number:\"))\n",
    "sum = 0\n",
    "for i in range(1,n+1):\n",
    "    sum+=i\n",
    "print(f\"The sum of first {n} number is {sum}\")"
   ]
  },
  {
   "cell_type": "code",
   "execution_count": 139,
   "metadata": {},
   "outputs": [
    {
     "name": "stdout",
     "output_type": "stream",
     "text": [
      "11\n",
      "13\n",
      "15\n",
      "17\n",
      "19\n",
      "21\n",
      "23\n",
      "25\n",
      "27\n",
      "29\n"
     ]
    }
   ],
   "source": [
    "for i in range(10,30):\n",
    "    if i%2!=0:\n",
    "        print(i)\n",
    "    "
   ]
  },
  {
   "cell_type": "code",
   "execution_count": 140,
   "metadata": {},
   "outputs": [
    {
     "name": "stdout",
     "output_type": "stream",
     "text": [
      "The sum is 390\n"
     ]
    }
   ],
   "source": [
    "sum = 0\n",
    "for i in range(30,50):\n",
    "    if i%2==0:\n",
    "        sum+=i\n",
    "        i+=1\n",
    "print(f\"The sum is {sum}\")\n",
    "    "
   ]
  },
  {
   "cell_type": "code",
   "execution_count": 146,
   "metadata": {},
   "outputs": [
    {
     "name": "stdout",
     "output_type": "stream",
     "text": [
      "The factorial 3 is 6\n"
     ]
    }
   ],
   "source": [
    "num = int(input(\"enter a number\"))\n",
    "sum = 1\n",
    "i = 1\n",
    "while i<=num:\n",
    "    sum*=i\n",
    "    i+=1\n",
    "print(f\"The factorial {num} is {sum}\")"
   ]
  }
 ],
 "metadata": {
  "kernelspec": {
   "display_name": "Python 3",
   "language": "python",
   "name": "python3"
  },
  "language_info": {
   "codemirror_mode": {
    "name": "ipython",
    "version": 3
   },
   "file_extension": ".py",
   "mimetype": "text/x-python",
   "name": "python",
   "nbconvert_exporter": "python",
   "pygments_lexer": "ipython3",
   "version": "3.9.6"
  }
 },
 "nbformat": 4,
 "nbformat_minor": 2
}
