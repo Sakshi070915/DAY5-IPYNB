{
 "cells": [
  {
   "cell_type": "code",
   "execution_count": 1,
   "metadata": {},
   "outputs": [
    {
     "name": "stdout",
     "output_type": "stream",
     "text": [
      "h e l l o   w o r l d "
     ]
    }
   ],
   "source": [
    "str=\"hello world\"\n",
    "for x in str:\n",
    "    print(x, end=' ')\n",
    "    "
   ]
  },
  {
   "cell_type": "code",
   "execution_count": 2,
   "metadata": {},
   "outputs": [
    {
     "name": "stdout",
     "output_type": "stream",
     "text": [
      "0 1 2 3 4 "
     ]
    }
   ],
   "source": [
    "for x in range(5):\n",
    "    print(x, end=' ')\n",
    "    "
   ]
  },
  {
   "cell_type": "code",
   "execution_count": 9,
   "metadata": {},
   "outputs": [
    {
     "name": "stdout",
     "output_type": "stream",
     "text": [
      "0 prg\n",
      "1 prg\n",
      "2 prg\n",
      "3 prg\n",
      "4 prg\n",
      "5 prg\n",
      "6 prg\n",
      "7 prg\n"
     ]
    }
   ],
   "source": [
    "for x in range(8):\n",
    "    print(x, end=' ')\n",
    "    print(\"prg\")"
   ]
  },
  {
   "cell_type": "code",
   "execution_count": 4,
   "metadata": {},
   "outputs": [
    {
     "name": "stdout",
     "output_type": "stream",
     "text": [
      "range(0, 9)\n",
      "<class 'range'>\n"
     ]
    }
   ],
   "source": [
    "r=range(9)\n",
    "print(r)\n",
    "print(type(r))"
   ]
  },
  {
   "cell_type": "code",
   "execution_count": 8,
   "metadata": {},
   "outputs": [
    {
     "name": "stdout",
     "output_type": "stream",
     "text": [
      "0 1 2 3 4 5 6 7 8 9 "
     ]
    }
   ],
   "source": [
    "r=range(10)\n",
    "for i in r:\n",
    "    print(i, end=' ')"
   ]
  },
  {
   "cell_type": "code",
   "execution_count": 10,
   "metadata": {},
   "outputs": [
    {
     "name": "stdout",
     "output_type": "stream",
     "text": [
      "10 11 12 13 14 15 16 17 18 19 "
     ]
    }
   ],
   "source": [
    "r = range(10,20)\n",
    "for i in r:print(i, end=' ')\n"
   ]
  },
  {
   "cell_type": "code",
   "execution_count": 11,
   "metadata": {},
   "outputs": [
    {
     "name": "stdout",
     "output_type": "stream",
     "text": [
      "10 12 14 16 18 "
     ]
    }
   ],
   "source": [
    "r=range(10,20,2)\n",
    "for i in r:print(i,end=' ')"
   ]
  },
  {
   "cell_type": "code",
   "execution_count": 12,
   "metadata": {},
   "outputs": [
    {
     "name": "stdout",
     "output_type": "stream",
     "text": [
      "[0, 1, 2, 3, 4, 5, 6, 7, 8, 9]\n"
     ]
    }
   ],
   "source": [
    "l=list(range(10))\n",
    "print(l)"
   ]
  },
  {
   "cell_type": "code",
   "execution_count": 14,
   "metadata": {},
   "outputs": [
    {
     "name": "stdout",
     "output_type": "stream",
     "text": [
      "sum is 10\n"
     ]
    }
   ],
   "source": [
    "sum=0\n",
    "for x in range(1,5):\n",
    "    sum=sum+x\n",
    "print(f\"sum is {sum}\")\n"
   ]
  },
  {
   "cell_type": "code",
   "execution_count": 17,
   "metadata": {},
   "outputs": [
    {
     "name": "stdout",
     "output_type": "stream",
     "text": [
      "sum is 10\n"
     ]
    }
   ],
   "source": [
    "sum=0\n",
    "for x in range(1,5):\n",
    "    sum=sum+x\n",
    "print(f\"sum is {sum}\")\n"
   ]
  },
  {
   "cell_type": "code",
   "execution_count": 19,
   "metadata": {},
   "outputs": [
    {
     "name": "stdout",
     "output_type": "stream",
     "text": [
      "sum is 1\n",
      "sum is 3\n",
      "sum is 6\n",
      "sum is 10\n"
     ]
    }
   ],
   "source": [
    "i=1\n",
    "sum=0\n",
    "while i<=4:\n",
    "    sum=sum+i\n",
    "    i+=1\n",
    "    print(f\"sum is {sum}\")"
   ]
  },
  {
   "cell_type": "code",
   "execution_count": 2,
   "metadata": {},
   "outputs": [
    {
     "name": "stdout",
     "output_type": "stream",
     "text": [
      "Enter correct username and paassword combo to continue\n",
      "Access denied. Try again.\n"
     ]
    },
    {
     "ename": "ValueError",
     "evalue": "not enough values to unpack (expected 2, got 0)",
     "output_type": "error",
     "traceback": [
      "\u001b[0;31m---------------------------------------------------------------------------\u001b[0m",
      "\u001b[0;31mValueError\u001b[0m                                Traceback (most recent call last)",
      "Cell \u001b[0;32mIn[2], line 4\u001b[0m\n\u001b[1;32m      2\u001b[0m count\u001b[38;5;241m=\u001b[39m\u001b[38;5;241m0\u001b[39m\n\u001b[1;32m      3\u001b[0m \u001b[38;5;28;01mwhile\u001b[39;00m count\u001b[38;5;241m<\u001b[39m \u001b[38;5;241m3\u001b[39m:\n\u001b[0;32m----> 4\u001b[0m     name,pwd\u001b[38;5;241m=\u001b[39m\u001b[38;5;28minput\u001b[39m(\u001b[38;5;124m\"\u001b[39m\u001b[38;5;124mEnter Name and password\u001b[39m\u001b[38;5;124m\"\u001b[39m)\u001b[38;5;241m.\u001b[39msplit()\n\u001b[1;32m      5\u001b[0m     \u001b[38;5;28;01mif\u001b[39;00m name\u001b[38;5;241m==\u001b[39m\u001b[38;5;124m\"\u001b[39m\u001b[38;5;124mstud\u001b[39m\u001b[38;5;124m\"\u001b[39m \u001b[38;5;129;01mand\u001b[39;00m pwd\u001b[38;5;241m==\u001b[39m\u001b[38;5;124m'\u001b[39m\u001b[38;5;124mpass\u001b[39m\u001b[38;5;124m'\u001b[39m:\n\u001b[1;32m      6\u001b[0m         \u001b[38;5;28mprint\u001b[39m(\u001b[38;5;124m'\u001b[39m\u001b[38;5;124mAccess granted\u001b[39m\u001b[38;5;124m'\u001b[39m)\n",
      "\u001b[0;31mValueError\u001b[0m: not enough values to unpack (expected 2, got 0)"
     ]
    }
   ],
   "source": [
    "print('Enter correct username and paassword combo to continue')\n",
    "count=0\n",
    "while count< 3:\n",
    "    name,pwd=input(\"Enter Name and password\").split()\n",
    "    if name==\"stud\" and pwd=='pass':\n",
    "        print('Access granted')\n",
    "        break\n",
    "    else:\n",
    "        if count==2:\n",
    "            print('Sorry, Attempts completed')\n",
    "        else:\n",
    "            print('Access denied. Try again.')\n",
    "            count += 1 "
   ]
  },
  {
   "cell_type": "code",
   "execution_count": 9,
   "metadata": {},
   "outputs": [
    {
     "name": "stdout",
     "output_type": "stream",
     "text": [
      "sum is 120\n"
     ]
    },
    {
     "ename": "SyntaxError",
     "evalue": "'break' outside loop (2416993082.py, line 5)",
     "output_type": "error",
     "traceback": [
      "\u001b[0;36m  Cell \u001b[0;32mIn[9], line 5\u001b[0;36m\u001b[0m\n\u001b[0;31m    break\u001b[0m\n\u001b[0m    ^\u001b[0m\n\u001b[0;31mSyntaxError\u001b[0m\u001b[0;31m:\u001b[0m 'break' outside loop\n"
     ]
    }
   ],
   "source": [
    "sum=1\n",
    "for x in range(1,6):\n",
    "    sum=sum*x\n",
    "print(f\"sum is {sum}\")\n",
    "break"
   ]
  },
  {
   "cell_type": "code",
   "execution_count": 10,
   "metadata": {},
   "outputs": [
    {
     "name": "stdout",
     "output_type": "stream",
     "text": [
      "sum of 5 using while loop is 120\n"
     ]
    }
   ],
   "source": [
    "i=1\n",
    "sum=1\n",
    "while i<=5:\n",
    "    sum*=i\n",
    "    i +=1 #i=i+1\n",
    "print(f\"sum of 5 using while loop is {sum}\")"
   ]
  },
  {
   "cell_type": "code",
   "execution_count": 23,
   "metadata": {},
   "outputs": [
    {
     "ename": "NameError",
     "evalue": "name 'randint' is not defined",
     "output_type": "error",
     "traceback": [
      "\u001b[0;31m---------------------------------------------------------------------------\u001b[0m",
      "\u001b[0;31mNameError\u001b[0m                                 Traceback (most recent call last)",
      "Cell \u001b[0;32mIn[23], line 2\u001b[0m\n\u001b[1;32m      1\u001b[0m LOW,HIGH\u001b[38;5;241m=\u001b[39m\u001b[38;5;241m1\u001b[39m,\u001b[38;5;241m10\u001b[39m\n\u001b[0;32m----> 2\u001b[0m secret_number\u001b[38;5;241m=\u001b[39m\u001b[43mrandint\u001b[49m(LOW,HIGH)\n\u001b[1;32m      3\u001b[0m \u001b[38;5;28;01mwhile\u001b[39;00m \u001b[38;5;28;01mTrue\u001b[39;00m:\n\u001b[1;32m      4\u001b[0m     guess\u001b[38;5;241m=\u001b[39m\u001b[38;5;28minput\u001b[39m(\u001b[38;5;124mf\u001b[39m\u001b[38;5;124m\"\u001b[39m\u001b[38;5;124mGuess a number between \u001b[39m\u001b[38;5;132;01m{\u001b[39;00mLOW\u001b[38;5;132;01m}\u001b[39;00m\u001b[38;5;124m AND\u001b[39m\u001b[38;5;132;01m{\u001b[39;00mHIGH\u001b[38;5;132;01m}\u001b[39;00m\u001b[38;5;124m\"\u001b[39m)\n",
      "\u001b[0;31mNameError\u001b[0m: name 'randint' is not defined"
     ]
    }
   ],
   "source": [
    "LOW,HIGH=1,10\n",
    "secret_number=randint(LOW,HIGH)\n",
    "while True:\n",
    "    guess=input(f\"Guess a number between {LOW} AND{HIGH}\")\n",
    "    number=int(guess)\n",
    "    if  number>secret_number:\n",
    "        print(f\"Secret number is less than {number}\")\n",
    "    elif number<secret_number:\n",
    "        print(f\"secret number is greater than {number}\")\n",
    "    else:\n",
    "        break\n",
    "print(f\"You guessed it! The secret is {number}\")"
   ]
  },
  {
   "cell_type": "code",
   "execution_count": 27,
   "metadata": {},
   "outputs": [
    {
     "name": "stdout",
     "output_type": "stream",
     "text": [
      "* \n",
      "* * \n",
      "* * * \n",
      "* * * * \n",
      "* * * * * \n",
      "* * * * * * \n",
      "* * * * * * * \n"
     ]
    }
   ],
   "source": [
    "rows=int(input(\"Enter number of rows\"))\n",
    "for i in range(1,rows+1):\n",
    "    for j in range(1,i+1):\n",
    "       print(\"*\",end=\" \")\n",
    "    print()                                                                                                                  "
   ]
  },
  {
   "cell_type": "code",
   "execution_count": 28,
   "metadata": {},
   "outputs": [
    {
     "name": "stdout",
     "output_type": "stream",
     "text": [
      "* \n",
      "* * \n",
      "* * * \n",
      "* * * * \n",
      "* * * * * \n",
      "* * * * * * \n",
      "* * * * * * * \n"
     ]
    }
   ],
   "source": [
    "rows=int(input(\"Enter a number of rows\"))\n",
    "for i in range(1,rows+1):\n",
    "    for j in range(1,i+1):\n",
    "        print(\"*\",end=\" \")\n",
    "    print()"
   ]
  },
  {
   "cell_type": "code",
   "execution_count": 30,
   "metadata": {},
   "outputs": [
    {
     "name": "stdout",
     "output_type": "stream",
     "text": [
      "*\n",
      "**\n",
      "***\n",
      "****\n",
      "*****\n"
     ]
    }
   ],
   "source": [
    "rows=int(input(\"Enter a number of rows\"))\n",
    "for i in range(1,rows+1):\n",
    "    print('*' *  i)"
   ]
  },
  {
   "cell_type": "code",
   "execution_count": 33,
   "metadata": {},
   "outputs": [
    {
     "name": "stdout",
     "output_type": "stream",
     "text": [
      "* \n",
      "* * \n",
      "* * * \n",
      "* * * * \n",
      "* * * * * \n"
     ]
    }
   ],
   "source": [
    "rows = int(input(\"enter number of rows\"))\n",
    "for i in range(rows+1):\n",
    "    j=0\n",
    "    while j<=i:\n",
    "        print(\"*\", end=\" \")\n",
    "        j+=1\n",
    "    print()"
   ]
  },
  {
   "cell_type": "code",
   "execution_count": 32,
   "metadata": {},
   "outputs": [
    {
     "name": "stdout",
     "output_type": "stream",
     "text": [
      "* \n",
      "* * \n",
      "* * * \n",
      "* * * * \n"
     ]
    }
   ],
   "source": [
    "rows=int(input(\"Enter number of rows\"))\n",
    "i=1\n",
    "while i<rows+1:\n",
    "    j=1\n",
    "    while j<=i:\n",
    "        print(\"*\",end=\" \")\n",
    "        j+=1\n",
    "    print()\n",
    "    i+=1"
   ]
  },
  {
   "cell_type": "code",
   "execution_count": 1,
   "metadata": {},
   "outputs": [
    {
     "name": "stdout",
     "output_type": "stream",
     "text": [
      "********\n",
      "*******\n",
      "******\n",
      "*****\n",
      "****\n",
      "***\n",
      "**\n",
      "*\n"
     ]
    }
   ],
   "source": [
    "rows = int(input(\"enetr numberof rows\"))\n",
    "for i in range (rows, 0, -1):\n",
    "    print('*' * i)\n"
   ]
  },
  {
   "cell_type": "code",
   "execution_count": 2,
   "metadata": {},
   "outputs": [
    {
     "name": "stdout",
     "output_type": "stream",
     "text": [
      "\n",
      " Dictionary Iteration\n",
      "xyz 123\n",
      "abc 345\n"
     ]
    }
   ],
   "source": [
    "print(\"\\n Dictionary Iteration\")\n",
    "d = dict()\n",
    "d['xyz']=123\n",
    "d['abc']=345\n",
    "for i in d:\n",
    "    print(\"%s %d\"%(i,d[i]))"
   ]
  },
  {
   "cell_type": "code",
   "execution_count": 5,
   "metadata": {},
   "outputs": [
    {
     "name": "stdout",
     "output_type": "stream",
     "text": [
      "\n",
      "Set Iteration\n",
      "1 2 3 4 5 6 "
     ]
    }
   ],
   "source": [
    "print(\"\\n Set Iteration\")\n",
    "set1={1,2,3,4,5,6}\n",
    "for i in set1:\n",
    "    print(i, end=' ')"
   ]
  },
  {
   "cell_type": "code",
   "execution_count": 6,
   "metadata": {},
   "outputs": [
    {
     "name": "stdout",
     "output_type": "stream",
     "text": [
      "\n",
      " Tuple Iteration\n",
      "11\n",
      "22,5\n",
      "AAA\n"
     ]
    }
   ],
   "source": [
    "print(\"\\n Tuple Iteration\")\n",
    "t=(\"11\",\"22,5\",\"AAA\")\n",
    "for i in t:\n",
    "    print(i)"
   ]
  },
  {
   "cell_type": "code",
   "execution_count": 7,
   "metadata": {},
   "outputs": [
    {
     "name": "stdout",
     "output_type": "stream",
     "text": [
      "      * \n",
      "    * * * \n",
      "  * * * * * \n",
      "* * * * * * * \n"
     ]
    }
   ],
   "source": [
    "rows=int(input(\"Enter number of rows\"))\n",
    "for i in range (rows):\n",
    "    for j in range (rows-i-1):\n",
    "        print(\" \",end=\" \")\n",
    "    for j in range (2*i+1):\n",
    "        print(\"*\", end=\" \")\n",
    "    print()"
   ]
  },
  {
   "cell_type": "code",
   "execution_count": 9,
   "metadata": {},
   "outputs": [
    {
     "name": "stdout",
     "output_type": "stream",
     "text": [
      "0 1 2 3 4 5 6 7 8 9 "
     ]
    }
   ],
   "source": [
    "for i in range(50):\n",
    "  if i==10:\n",
    "    break\n",
    "  print(i, end=' ')\n",
    "else:\n",
    "  print(\"Prog completed\")"
   ]
  },
  {
   "cell_type": "code",
   "execution_count": 10,
   "metadata": {},
   "outputs": [
    {
     "name": "stdout",
     "output_type": "stream",
     "text": [
      "Element not found\n",
      "Element not found\n",
      "Element not found\n",
      "Element not found\n",
      "Element not found\n",
      "Element not found\n",
      "Element not found\n"
     ]
    }
   ],
   "source": [
    "ls=[10,20,30,40,50,60,70]\n",
    "search_ele=int(input(\"Enter a number\"))\n",
    "for ele in ls:\n",
    "    if search_ele==ele:\n",
    "        print(\"Element found\")\n",
    "        break\n",
    "    else:\n",
    "        print(\"Element not found\")"
   ]
  },
  {
   "cell_type": "code",
   "execution_count": 12,
   "metadata": {},
   "outputs": [
    {
     "name": "stdout",
     "output_type": "stream",
     "text": [
      "Element not found\n"
     ]
    }
   ],
   "source": [
    "ls=[10,20,30,40,50,60,70]\n",
    "search_ele=int(input(\"Enter a number\"))\n",
    "i=0\n",
    "while i<len(ls):\n",
    "    if search_ele==ele:\n",
    "        print(\"Element found\")\n",
    "        break\n",
    "    i+=1 \n",
    "else:\n",
    "    print(\"Element not found\")  "
   ]
  },
  {
   "cell_type": "code",
   "execution_count": 13,
   "metadata": {},
   "outputs": [
    {
     "name": "stdout",
     "output_type": "stream",
     "text": [
      "Element not found\n"
     ]
    }
   ],
   "source": [
    "ls=[10,20,30,40]\n",
    "search_ele=int(input(\"Enter a number\"))\n",
    "i=0\n",
    "while i<len(ls):\n",
    "    if search_ele==ls[i]:\n",
    "        print(\"Element found\")\n",
    "        break\n",
    "    i+=1\n",
    "else:\n",
    "    print(\"Element not found\")"
   ]
  },
  {
   "cell_type": "code",
   "execution_count": 14,
   "metadata": {},
   "outputs": [
    {
     "name": "stdout",
     "output_type": "stream",
     "text": [
      "The new created array is: 1 2 3 "
     ]
    }
   ],
   "source": [
    "import array as arr\n",
    "a= arr.array('i', [1,2,3])\n",
    "print(\"The new created array is:\", end=\" \")\n",
    "for i in range(0, 3):\n",
    "    print(a[i], end=\" \")"
   ]
  },
  {
   "cell_type": "code",
   "execution_count": 15,
   "metadata": {},
   "outputs": [
    {
     "name": "stdout",
     "output_type": "stream",
     "text": [
      "\n",
      "The new created array is : 2.5 3.2 3.3 "
     ]
    }
   ],
   "source": [
    "b = arr.array('d',[2.5,3.2,3.3])\n",
    "print(\"\\nThe new created array is :\", end=\" \")\n",
    "for i in range(0,3):\n",
    "    print(b[i], end=\" \")"
   ]
  },
  {
   "cell_type": "code",
   "execution_count": 17,
   "metadata": {},
   "outputs": [
    {
     "name": "stdout",
     "output_type": "stream",
     "text": [
      "array('i', [10, 11, 22, 33, 22, 10, 20, 30])\n"
     ]
    }
   ],
   "source": [
    "a=arr.array('i',[11,22,33])\n",
    "a.append(22)\n",
    "a.insert(0,10)\n",
    "a.extend([10,20,30])\n",
    "print(a)"
   ]
  },
  {
   "cell_type": "code",
   "execution_count": 24,
   "metadata": {},
   "outputs": [
    {
     "name": "stdout",
     "output_type": "stream",
     "text": [
      "The popped element is : 3\n",
      "The popped element is : 5\n",
      "The array after popping is : 1 2 1 \n"
     ]
    }
   ],
   "source": [
    "import array\n",
    "arr=array.array('i',[1,2,3,1,5]) \n",
    "\n",
    "print(f\"The popped element is : {arr.pop(2)}\")\n",
    "print(f\"The popped element is : {arr.pop()}\")\n",
    "\n",
    "print(f\"The array after popping is :\",end=\" \")\n",
    "for i in range(len(arr)):\n",
    "    print(arr[i],end=\" \")\n",
    "print()"
   ]
  },
  {
   "cell_type": "code",
   "execution_count": 29,
   "metadata": {},
   "outputs": [
    {
     "name": "stdout",
     "output_type": "stream",
     "text": [
      "array('i', [1, 2, 3, 1, 5])\n",
      "array('i', [1, 5])\n",
      "array('i')\n",
      "array('i', [1, 2, 3, 1, 5])\n"
     ]
    }
   ],
   "source": [
    "import array as arr\n",
    "l=[0,1,2,3,4,5,6,7,8,9]\n",
    "arr=arr.array('i',l)\n",
    "print(a)\n",
    "sliced_array=a[3:8]\n",
    "print(sliced_array)\n",
    "print(a[5:])\n",
    "print(a[:])"
   ]
  },
  {
   "cell_type": "code",
   "execution_count": 1,
   "metadata": {},
   "outputs": [
    {
     "name": "stdout",
     "output_type": "stream",
     "text": [
      "['tic-tac', 'toe']\n"
     ]
    }
   ],
   "source": [
    "string = \"tic-tac-toe\"\n",
    "print(string.rsplit('-',1))"
   ]
  },
  {
   "cell_type": "code",
   "execution_count": 2,
   "metadata": {},
   "outputs": [
    {
     "name": "stdout",
     "output_type": "stream",
     "text": [
      "('light ', 'attracts', ' bug')\n"
     ]
    }
   ],
   "source": [
    "string = \"light attracts bug\"\n",
    "print(string.partition('attracts'))"
   ]
  },
  {
   "cell_type": "code",
   "execution_count": 3,
   "metadata": {},
   "outputs": [
    {
     "name": "stdout",
     "output_type": "stream",
     "text": [
      "h-e-l-l-o\n"
     ]
    }
   ],
   "source": [
    "str = \"hello\"\n",
    "print('-'.join(str))"
   ]
  },
  {
   "cell_type": "code",
   "execution_count": 4,
   "metadata": {},
   "outputs": [
    {
     "name": "stdout",
     "output_type": "stream",
     "text": [
      "AABBCCDD\n"
     ]
    }
   ],
   "source": [
    "list1 = ['AA', 'BB', 'CC', 'DD']\n",
    "print(\"\".join(list1))"
   ]
  },
  {
   "cell_type": "code",
   "execution_count": 8,
   "metadata": {},
   "outputs": [
    {
     "name": "stdout",
     "output_type": "stream",
     "text": [
      "hello world\n"
     ]
    }
   ],
   "source": [
    "def func1 ():\n",
    "    print(\"hello world\")\n",
    "func1()"
   ]
  },
  {
   "cell_type": "code",
   "execution_count": 14,
   "metadata": {},
   "outputs": [
    {
     "name": "stdout",
     "output_type": "stream",
     "text": [
      "3 num is odd\n",
      "4 num is even\n"
     ]
    }
   ],
   "source": [
    "def even_odd(num):\n",
    "    if num%2 == 0:\n",
    "        print(num,\"num is even\")\n",
    "    else:\n",
    "        print(num,\"num is odd\")\n",
    "even_odd(3)\n",
    "even_odd(4)\n",
    "\n"
   ]
  },
  {
   "cell_type": "code",
   "execution_count": 21,
   "metadata": {},
   "outputs": [
    {
     "data": {
      "text/plain": [
       "11"
      ]
     },
     "execution_count": 21,
     "metadata": {},
     "output_type": "execute_result"
    }
   ],
   "source": [
    "def add_func(num1,num2):\n",
    "    return(num1+num2)\n",
    "add_func(5,6)"
   ]
  },
  {
   "cell_type": "code",
   "execution_count": 19,
   "metadata": {},
   "outputs": [
    {
     "ename": "TypeError",
     "evalue": "add_func() missing 2 required positional arguments: 'num1' and 'num2'",
     "output_type": "error",
     "traceback": [
      "\u001b[0;31m---------------------------------------------------------------------------\u001b[0m",
      "\u001b[0;31mTypeError\u001b[0m                                 Traceback (most recent call last)",
      "Cell \u001b[0;32mIn[19], line 3\u001b[0m\n\u001b[1;32m      1\u001b[0m \u001b[38;5;28;01mdef\u001b[39;00m \u001b[38;5;21madd_func\u001b[39m(num1,num2):\n\u001b[1;32m      2\u001b[0m     \u001b[38;5;28;01mreturn\u001b[39;00m(num1\u001b[38;5;241m+\u001b[39mnum2)\n\u001b[0;32m----> 3\u001b[0m \u001b[43madd_func\u001b[49m\u001b[43m(\u001b[49m\u001b[43m)\u001b[49m\n",
      "\u001b[0;31mTypeError\u001b[0m: add_func() missing 2 required positional arguments: 'num1' and 'num2'"
     ]
    }
   ],
   "source": [
    "def add_func(num1,num2):\n",
    "    return(num1+num2)\n",
    "add_func()\n",
    "  "
   ]
  },
  {
   "cell_type": "code",
   "execution_count": 25,
   "metadata": {},
   "outputs": [
    {
     "name": "stdout",
     "output_type": "stream",
     "text": [
      "The factorial of 1 is 1\n",
      "The factorial of 2 is 2\n",
      "The factorial of 3 is 6\n",
      "The factorial of 4 is 24\n"
     ]
    }
   ],
   "source": [
    "def fact(num):\n",
    "    result=1\n",
    "    while num>=1:\n",
    "        result=result*num\n",
    "        num-=1\n",
    "    return result\n",
    "for i in range(1,5):\n",
    "    print(\"The factorial of\", i, \"is\",fact(i))"
   ]
  },
  {
   "cell_type": "code",
   "execution_count": 28,
   "metadata": {},
   "outputs": [
    {
     "name": "stdout",
     "output_type": "stream",
     "text": [
      "the sum is: 150\n",
      "the sub is: 50\n"
     ]
    }
   ],
   "source": [
    "def sum_sub(a,b):\n",
    "    add=a+b\n",
    "    sub=a-b\n",
    "    return add,sub\n",
    "x,y=sum_sub(100,50)\n",
    "print(\"the sum is:\",x)\n",
    "print(\"the sub is:\",y)"
   ]
  },
  {
   "cell_type": "code",
   "execution_count": 1,
   "metadata": {},
   "outputs": [
    {
     "name": "stdout",
     "output_type": "stream",
     "text": [
      "the results of addition,substraction,multiplication,and division are respectively\n",
      "130\n",
      "70\n",
      "3000\n",
      "3.3333333333333335\n"
     ]
    }
   ],
   "source": [
    "def calc(a,b):\n",
    "    add=a+b\n",
    "    sub=a-b\n",
    "    mul=a*b\n",
    "    div=a/b\n",
    "    return add,sub,mul,div\n",
    "t=calc(100,30)\n",
    "print(\"the results of addition,substraction,multiplication,and division are respectively\")\n",
    "for i in t:\n",
    "    print(i)\n"
   ]
  },
  {
   "cell_type": "code",
   "execution_count": 4,
   "metadata": {},
   "outputs": [
    {
     "name": "stdout",
     "output_type": "stream",
     "text": [
      "hello shweta ,miss you babyyyy\n"
     ]
    }
   ],
   "source": [
    "def greet(name,msg):\n",
    "    print(\"hello\",name,msg)\n",
    "greet(\"shweta\",\",miss you babyyyy\")"
   ]
  },
  {
   "cell_type": "code",
   "execution_count": 5,
   "metadata": {},
   "outputs": [
    {
     "name": "stdout",
     "output_type": "stream",
     "text": [
      "-100\n",
      "100\n"
     ]
    }
   ],
   "source": [
    "#positional arguments\n",
    "def sub(a,b):\n",
    "    print(a-b)\n",
    "sub(100,200)\n",
    "sub(200,100)"
   ]
  },
  {
   "cell_type": "code",
   "execution_count": 9,
   "metadata": {},
   "outputs": [
    {
     "name": "stdout",
     "output_type": "stream",
     "text": [
      "Subject is A and mark are 100\n"
     ]
    }
   ],
   "source": [
    "def marksst(subject,marks):\n",
    "    print(\"Subject is %s and mark are %d\"%(subject,marks))\n",
    "marksst(\"A\",100)"
   ]
  },
  {
   "cell_type": "code",
   "execution_count": 1,
   "metadata": {},
   "outputs": [
    {
     "name": "stdout",
     "output_type": "stream",
     "text": [
      "10 \n",
      "10 20 \n",
      "10 20 30 \n"
     ]
    }
   ],
   "source": [
    "def func1(arg1,*var_arg):\n",
    "    print(arg1,end = \" \")\n",
    "    for i in var_arg:\n",
    "        print(i,end = \" \")\n",
    "    print()\n",
    "func1(10)\n",
    "func1(10,20)\n",
    "func1(10,20,30)"
   ]
  },
  {
   "cell_type": "code",
   "execution_count": 13,
   "metadata": {},
   "outputs": [],
   "source": [
    "def func_kawrgs(**data):\n",
    "    print(\"\\nData type of argument:\",type=(data))\n",
    "    \n",
    "    for key, value in data.items():\n",
    "        print(\"{} is {}\".format(key,value))\n",
    "        func_kwargs(Firstname  = \"Sita\", Lastname = \"Sharma\", Age = 22, Phone = 1234567890)\n",
    "        func_kwargs(Firstname = \"John\", Lastname = \"Norton\", Email = \"john@gmail.com\", Country = \"India\", Age = 25, Phone = 1234567890)"
   ]
  },
  {
   "cell_type": "code",
   "execution_count": 8,
   "metadata": {},
   "outputs": [
    {
     "name": "stdout",
     "output_type": "stream",
     "text": [
      "15\n",
      "60\n",
      "65\n"
     ]
    }
   ],
   "source": [
    "a1 = 10\n",
    "def f1():\n",
    "    global a1\n",
    "    a1=a1+5\n",
    "    print(a1)\n",
    "def f2():\n",
    "    global a1\n",
    "    a1=a1+45\n",
    "    print(a1)\n",
    "f1()\n",
    "f2()\n",
    "f1()"
   ]
  },
  {
   "cell_type": "code",
   "execution_count": 32,
   "metadata": {},
   "outputs": [
    {
     "name": "stdout",
     "output_type": "stream",
     "text": [
      "3\n",
      "4\n",
      "9.0\n",
      "362880\n",
      "-6\n",
      "-8\n",
      "-7.0\n",
      "10.0\n",
      "10.0\n",
      "10.0\n",
      "16.0\n",
      "120\n",
      "120\n",
      "2.6457513110645907\n",
      "-9\n",
      "6 7 3 3 8 "
     ]
    }
   ],
   "source": [
    "import math\n",
    "print(math.ceil(2.5))\n",
    "print(math.floor(4.4))\n",
    "print(math.fabs(-9))\n",
    "print(math.factorial(9))\n",
    "print(math.floor(-5.9))\n",
    "print(math.ceil(-8.7))\n",
    "print(math.fmod(-25,9))\n",
    "print(math.fsum([1,2,3,4]))\n",
    "print(math.fsum(range(0,5)))\n",
    "print(math.fsum({1:\"one\",2:\"two\",3:3,4:4}))\n",
    "print(math.fsum({7,2,3,4}))\n",
    "print(math.prod(range(1,6)))\n",
    "print(math.prod({1:\"one\",2:\"two\",3:3,4:4,5:5}))\n",
    "print(math.sqrt(7))\n",
    "print(math.trunc(-9.8))\n",
    "\n",
    "#1\n",
    "from random import *\n",
    "for i in range(5):\n",
    "    print(randrange(10), end = ' ')\n",
    "\n",
    "#2\n",
    "from random import *\n",
    "for i in range(5):\n",
    "    print(randrange(5))"
   ]
  },
  {
   "cell_type": "code",
   "execution_count": 29,
   "metadata": {},
   "outputs": [
    {
     "name": "stdout",
     "output_type": "stream",
     "text": [
      "The greatest number is: 7\n"
     ]
    }
   ],
   "source": [
    "#Write a function to find greatest of three numbers and call that function\n",
    "def find_greatest(a, b, c):\n",
    "  if a >= b and a >= c:\n",
    "    return a\n",
    "  elif b >= a and b >= c:\n",
    "    return b\n",
    "  else:\n",
    "    return c\n",
    "\n",
    "a = int(input(\"Enter the first number: \"))\n",
    "b = int(input(\"Enter the second number: \"))\n",
    "c = int(input(\"Enter the third number: \"))\n",
    "\n",
    "d = find_greatest(a, b, c)\n",
    "\n",
    "print(\"The greatest number is:\", d)   "
   ]
  },
  {
   "cell_type": "code",
   "execution_count": 33,
   "metadata": {},
   "outputs": [
    {
     "name": "stdout",
     "output_type": "stream",
     "text": [
      "[]\n",
      "<class 'list'>\n"
     ]
    }
   ],
   "source": [
    "ls1 = []\n",
    "print(ls1)\n",
    "print(type(ls1))"
   ]
  },
  {
   "cell_type": "code",
   "execution_count": 34,
   "metadata": {},
   "outputs": [
    {
     "name": "stdout",
     "output_type": "stream",
     "text": [
      "[0, 3, 6, 9]\n",
      "<class 'list'>\n"
     ]
    }
   ],
   "source": [
    "l1 = list(range(0,12,3))\n",
    "print(l1)\n",
    "print(type(l1))"
   ]
  },
  {
   "cell_type": "code",
   "execution_count": 35,
   "metadata": {},
   "outputs": [
    {
     "name": "stdout",
     "output_type": "stream",
     "text": [
      "[0, 4, 5]\n"
     ]
    }
   ],
   "source": [
    "l1 = [0,5,4]\n",
    "l1.sort()\n",
    "print(l1)"
   ]
  },
  {
   "cell_type": "code",
   "execution_count": 36,
   "metadata": {},
   "outputs": [
    {
     "name": "stdout",
     "output_type": "stream",
     "text": [
      "[5, 0, 4]\n"
     ]
    }
   ],
   "source": [
    "l1 = [0,5,4]\n",
    "l1 = [l1[1], l1[0], l1[2]]\n",
    "print(l1)"
   ]
  },
  {
   "cell_type": "code",
   "execution_count": 2,
   "metadata": {},
   "outputs": [
    {
     "name": "stdout",
     "output_type": "stream",
     "text": [
      "<class 'int'>\n"
     ]
    }
   ],
   "source": [
    "a = (11)\n",
    "print(type(a))"
   ]
  },
  {
   "cell_type": "code",
   "execution_count": 3,
   "metadata": {},
   "outputs": [
    {
     "name": "stdout",
     "output_type": "stream",
     "text": [
      "<class 'tuple'>\n"
     ]
    }
   ],
   "source": [
    "a = (1,2,3,\"f\")\n",
    "print(type(a))"
   ]
  },
  {
   "cell_type": "code",
   "execution_count": 5,
   "metadata": {},
   "outputs": [
    {
     "name": "stdout",
     "output_type": "stream",
     "text": [
      "(10, 12, 14, 16, 18) <class 'tuple'>\n"
     ]
    }
   ],
   "source": [
    "t8 = tuple(range(10,20,2))\n",
    "print(t8,type(t8))"
   ]
  },
  {
   "cell_type": "code",
   "execution_count": 2,
   "metadata": {},
   "outputs": [
    {
     "name": "stdout",
     "output_type": "stream",
     "text": [
      "(10, 20, 40)\n"
     ]
    }
   ],
   "source": [
    "E = (10,20,30)\n",
    "a,b,c = E \n",
    "c = 40\n",
    "d =(a,b,c)\n",
    "print(d) "
   ]
  },
  {
   "cell_type": "code",
   "execution_count": 10,
   "metadata": {},
   "outputs": [
    {
     "name": "stdout",
     "output_type": "stream",
     "text": [
      "{1: {'name': 'John', 'age': '27'}, 2: {'name': 'Maria', 'age': '22'}}\n",
      "{1: {'name': 'John', 'age': '27'}, 2: {'name': 'Maria', 'age': '22'}, 3: {'name': 'Luna', 'age': '24', 'married': 'NO'}}\n"
     ]
    }
   ],
   "source": [
    "#Method1\n",
    "people = {1:{'name':'John','age':'27'},2:{'name':'Maria','age':'22'}}\n",
    "print(people)\n",
    "people[3] = {}\n",
    "people[3]['name'] = 'Luna'\n",
    "people[3]['age'] = '24'\n",
    "people[3]['married'] = 'NO'\n",
    "print(people)"
   ]
  },
  {
   "cell_type": "markdown",
   "metadata": {},
   "source": [
    "#OOP STARTS FROM BELOW"
   ]
  },
  {
   "cell_type": "code",
   "execution_count": 4,
   "metadata": {},
   "outputs": [
    {
     "name": "stdout",
     "output_type": "stream",
     "text": [
      "Initializing\n",
      "Sample class\n"
     ]
    }
   ],
   "source": [
    "class sample:\n",
    "    def __init__ (self):\n",
    "        print(\"Initializing\")\n",
    "    def pr(self):\n",
    "        print(\"Sample class\")\n",
    "s1 = sample()\n",
    "s1.pr()"
   ]
  },
  {
   "cell_type": "code",
   "execution_count": 5,
   "metadata": {},
   "outputs": [
    {
     "name": "stdout",
     "output_type": "stream",
     "text": [
      "Initializing\n",
      "Initializing\n",
      "Sample class\n"
     ]
    }
   ],
   "source": [
    "class sample:\n",
    "    def __init__ (self):\n",
    "        print(\"Initializing\")\n",
    "    def pr(self):\n",
    "        print(\"Sample class\")\n",
    "s1 = sample()\n",
    "s2 = sample()\n",
    "s1.pr()"
   ]
  },
  {
   "cell_type": "code",
   "execution_count": 4,
   "metadata": {},
   "outputs": [
    {
     "name": "stdout",
     "output_type": "stream",
     "text": [
      "John\n",
      "36\n"
     ]
    }
   ],
   "source": [
    "class person:\n",
    "    def __init__(self,name,age):\n",
    "        self.name = name\n",
    "        self.age = age\n",
    "p1 = person(\"John\", 36)\n",
    "\n",
    "print(p1.name)\n",
    "print(p1.age)"
   ]
  },
  {
   "cell_type": "code",
   "execution_count": 5,
   "metadata": {},
   "outputs": [
    {
     "name": "stdout",
     "output_type": "stream",
     "text": [
      "John\n",
      "36\n",
      "Jack\n",
      "30\n"
     ]
    }
   ],
   "source": [
    "class person:\n",
    "    def __init__(self,name,age):\n",
    "        self.name = name\n",
    "        self.age = age\n",
    "p1 = person(\"John\", 36)\n",
    "p2 = person(\"Jack\",30)\n",
    "\n",
    "print(p1.name)\n",
    "print(p1.age)\n",
    "print(p2.name)\n",
    "print(p2.age)"
   ]
  },
  {
   "cell_type": "code",
   "execution_count": 6,
   "metadata": {},
   "outputs": [
    {
     "name": "stdout",
     "output_type": "stream",
     "text": [
      "The name of the person is John and age is 36\n"
     ]
    }
   ],
   "source": [
    "class person:\n",
    "    def __init__ (self,name,age):\n",
    "        self.name = name\n",
    "        self.age = age\n",
    "    def myfunc(self):\n",
    "        print(\"The name of the person is %s and age is %s\" %(self.name,self.age))\n",
    "p1 = person(\"John\",36)\n",
    "p1.myfunc()"
   ]
  },
  {
   "cell_type": "code",
   "execution_count": 15,
   "metadata": {},
   "outputs": [
    {
     "name": "stdout",
     "output_type": "stream",
     "text": [
      "Instance method\n",
      "Class method\n",
      "Static method\n"
     ]
    }
   ],
   "source": [
    "class myclass:\n",
    "    def meth(self):\n",
    "        print(\"Instance method\")\n",
    "    @classmethod\n",
    "    def  class_meth (cls):\n",
    "        print(\"Class method\")\n",
    "    @staticmethod \n",
    "    def static_meth():\n",
    "        print(\"Static method\")\n",
    "o1 = myclass()\n",
    "o1.meth()\n",
    "myclass.class_meth()\n",
    "myclass.static_meth()"
   ]
  },
  {
   "cell_type": "code",
   "execution_count": 16,
   "metadata": {},
   "outputs": [
    {
     "name": "stdout",
     "output_type": "stream",
     "text": [
      "{'eno': 100, 'ename': 'Alice Brown', 'esal': 100000}\n"
     ]
    }
   ],
   "source": [
    "class employee:\n",
    "    def __init__(self):\n",
    "        self.eno = 100\n",
    "        self.ename = 'Alice Brown'\n",
    "        self.esal = 100000\n",
    "e = employee()\n",
    "print(e.__dict__)"
   ]
  },
  {
   "cell_type": "code",
   "execution_count": 19,
   "metadata": {},
   "outputs": [
    {
     "name": "stdout",
     "output_type": "stream",
     "text": [
      "{'eno': 100, 'ename': 'Alice Brown', 'esal': 100000}\n"
     ]
    }
   ],
   "source": [
    "class employee:\n",
    "    def __init__(self,eno,ename,esal):\n",
    "        self.eno = eno\n",
    "        self.ename = ename\n",
    "        self.esal = esal\n",
    "e = employee(100,\"Alice Brown\",100000)\n",
    "print(e.__dict__)"
   ]
  },
  {
   "cell_type": "code",
   "execution_count": 18,
   "metadata": {},
   "outputs": [
    {
     "name": "stdout",
     "output_type": "stream",
     "text": [
      "{'a': 10, 'b': 20, 'c': 30}\n"
     ]
    }
   ],
   "source": [
    "#method 2 instance variable creation\n",
    "class Test:\n",
    "    def __init__(self):\n",
    "        self.a = 10\n",
    "        self.b = 20\n",
    "    def func(self):\n",
    "        self.c = 30\n",
    "t = Test()\n",
    "t.func()\n",
    "print(t.__dict__)"
   ]
  },
  {
   "cell_type": "code",
   "execution_count": 24,
   "metadata": {},
   "outputs": [
    {
     "name": "stdout",
     "output_type": "stream",
     "text": [
      "{'a': 10, 'b': 20, 'c': 30, 'd': 40}\n"
     ]
    }
   ],
   "source": [
    "class Test:\n",
    "    def __init__(self):\n",
    "        self.a = 10\n",
    "        self.b = 20  \n",
    "    def func(self):\n",
    "        self.c = 30\n",
    "t = Test()\n",
    "t.func()\n",
    "t.d= 40\n",
    "print(t.__dict__)"
   ]
  },
  {
   "cell_type": "code",
   "execution_count": 23,
   "metadata": {},
   "outputs": [
    {
     "name": "stdout",
     "output_type": "stream",
     "text": [
      "10\n",
      "20\n",
      "10 20\n"
     ]
    }
   ],
   "source": [
    "class Test:\n",
    "    def __init__(self):\n",
    "        self.a = 10\n",
    "        self.b = 20\n",
    "    def display(self):\n",
    "        print(self.a)\n",
    "        print(self.b)\n",
    "t=Test()\n",
    "t.display()\n",
    "\n",
    "print(t.a,t.b)"
   ]
  },
  {
   "cell_type": "code",
   "execution_count": 25,
   "metadata": {},
   "outputs": [
    {
     "name": "stdout",
     "output_type": "stream",
     "text": [
      "John\n"
     ]
    },
    {
     "ename": "AttributeError",
     "evalue": "type object 'Person' has no attribute 'name'",
     "output_type": "error",
     "traceback": [
      "\u001b[0;31m---------------------------------------------------------------------------\u001b[0m",
      "\u001b[0;31mAttributeError\u001b[0m                            Traceback (most recent call last)",
      "Cell \u001b[0;32mIn[25], line 7\u001b[0m\n\u001b[1;32m      5\u001b[0m p1 \u001b[38;5;241m=\u001b[39m Person(\u001b[38;5;124m\"\u001b[39m\u001b[38;5;124mJohn\u001b[39m\u001b[38;5;124m\"\u001b[39m,\u001b[38;5;241m36\u001b[39m)\n\u001b[1;32m      6\u001b[0m \u001b[38;5;28mprint\u001b[39m(p1\u001b[38;5;241m.\u001b[39mname)\n\u001b[0;32m----> 7\u001b[0m \u001b[38;5;28mprint\u001b[39m(\u001b[43mPerson\u001b[49m\u001b[38;5;241;43m.\u001b[39;49m\u001b[43mname\u001b[49m)\n",
      "\u001b[0;31mAttributeError\u001b[0m: type object 'Person' has no attribute 'name'"
     ]
    }
   ],
   "source": [
    "class Person:\n",
    "    def __init__(self,name,age):\n",
    "        self.name=name\n",
    "        self.age=age\n",
    "p1 = Person(\"John\",36)\n",
    "print(p1.name)\n",
    "print(Person.name)\n"
   ]
  },
  {
   "cell_type": "code",
   "execution_count": 26,
   "metadata": {},
   "outputs": [
    {
     "name": "stdout",
     "output_type": "stream",
     "text": [
      "{'a': 10, 'b': 20, 'c': 30, 'd': 40}\n",
      "{'a': 10, 'b': 20, 'c': 30}\n",
      "{'a': 10, 'b': 20}\n"
     ]
    }
   ],
   "source": [
    "class Test:\n",
    "    def __init__(self):\n",
    "        self.a = 10\n",
    "        self.b = 20\n",
    "        self.c = 30\n",
    "        self.d = 40\n",
    "    def m1(self):\n",
    "        del self.d\n",
    "t=Test()\n",
    "print(t.__dict__)\n",
    "t.m1()\n",
    "print(t.__dict__)\n",
    "del t.c\n",
    "print(t.__dict__)"
   ]
  },
  {
   "cell_type": "code",
   "execution_count": 27,
   "metadata": {},
   "outputs": [
    {
     "name": "stdout",
     "output_type": "stream",
     "text": [
      "{'b': 20, 'c': 30, 'd': 40}\n",
      "{'a': 10, 'b': 20, 'c': 30, 'd': 40}\n"
     ]
    }
   ],
   "source": [
    "class Test:\n",
    "    def __init__(self):\n",
    "        self.a = 10\n",
    "        self.b = 20\n",
    "        self.c = 30\n",
    "        self.d = 40\n",
    "t1 = Test()\n",
    "t2 = Test()\n",
    "del t1.a\n",
    "print(t1.__dict__)\n",
    "print(t2.__dict__)"
   ]
  },
  {
   "cell_type": "code",
   "execution_count": 28,
   "metadata": {},
   "outputs": [
    {
     "name": "stdout",
     "output_type": "stream",
     "text": [
      "t1: {'a': 888, 'b': 999}\n",
      "t2: {'a': 10, 'b': 20}\n"
     ]
    }
   ],
   "source": [
    "class Test:\n",
    "    def __init__(self):\n",
    "        self.a=10\n",
    "        self.b=20\n",
    "t1 = Test()\n",
    "t2 = Test()\n",
    "t1.a = 888\n",
    "t1.b = 999\n",
    "print('t1:',t1.__dict__)\n",
    "print('t2:',t2.__dict__)"
   ]
  },
  {
   "cell_type": "code",
   "execution_count": 3,
   "metadata": {},
   "outputs": [
    {
     "name": "stdout",
     "output_type": "stream",
     "text": [
      "Tom\n"
     ]
    }
   ],
   "source": [
    "class Sample:\n",
    "    def setName(self, nm):\n",
    "        self.name = nm\n",
    "    def getName(self):\n",
    "        return self.name\n",
    "s = Sample()\n",
    "s.setName(\"Tom\")\n",
    "print(s.getName())\n",
    "\n"
   ]
  },
  {
   "cell_type": "code",
   "execution_count": 14,
   "metadata": {},
   "outputs": [
    {
     "name": "stdout",
     "output_type": "stream",
     "text": [
      "The number of objects created or test class: 2\n",
      "The number of objects created or test class: 5\n"
     ]
    }
   ],
   "source": [
    "class Test:\n",
    "    count = 0\n",
    "\n",
    "    def __init__(self):\n",
    "        Test.count = Test.count+1\n",
    "    @classmethod\n",
    "    def noOfObjects(cls):\n",
    "        print('The number of objects created or test class:',cls.count)\n",
    "\n",
    "t1 = Test()\n",
    "t2 = Test()\n",
    "Test.noOfObjects()\n",
    "t3 = Test()\n",
    "t4 = Test()\n",
    "t5 = Test()\n",
    "Test.noOfObjects()"
   ]
  },
  {
   "cell_type": "code",
   "execution_count": 15,
   "metadata": {},
   "outputs": [
    {
     "name": "stdout",
     "output_type": "stream",
     "text": [
      "Instance method\n",
      "100\n",
      "100\n",
      "class method\n",
      "10\n",
      "Accessing class variable n static method: 100\n"
     ]
    }
   ],
   "source": [
    "class Myclass:\n",
    "    b = 100\n",
    "    def meth(self):\n",
    "        self.a=10\n",
    "        print(\"Instance method\")\n",
    "    @classmethod\n",
    "    def class_meth(cls):\n",
    "        print(cls.b)\n",
    "        print(Myclass.b)\n",
    "        print(\"class method\")\n",
    "    @staticmethod\n",
    "    def static_meth(o1):\n",
    "        print(o1.a)\n",
    "        print(\"Accessing class variable n static method:\",Myclass.b)\n",
    "o1 = Myclass()\n",
    "o1.meth()\n",
    "Myclass.class_meth()\n",
    "Myclass.static_meth(o1)\n",
    "       \n",
    "        \n",
    "\n",
    "\n"
   ]
  },
  {
   "cell_type": "code",
   "execution_count": null,
   "metadata": {},
   "outputs": [],
   "source": [
    "class Test:\n",
    "    def __init__(self):\n",
    "        print(\"Object Intializing...\")\n",
    "    def __del__(self):\n",
    "        print(\"Performing lean up activities\")"
   ]
  },
  {
   "cell_type": "markdown",
   "metadata": {},
   "source": [
    "FILES"
   ]
  },
  {
   "cell_type": "code",
   "execution_count": 13,
   "metadata": {},
   "outputs": [],
   "source": [
    "f=open(\"sample.txt\",\"w\")\n",
    "f.write(\"Bye Bye\")\n",
    "f.close()"
   ]
  },
  {
   "cell_type": "code",
   "execution_count": 17,
   "metadata": {},
   "outputs": [],
   "source": [
    "f = open(\"sample.txt\",\"w\")\n",
    "f.write(\"This file is my\")\n",
    "f.write(\"python file\")\n",
    "f.write(\"\\n Hello Programming world\")\n",
    "f.close()"
   ]
  },
  {
   "cell_type": "code",
   "execution_count": 2,
   "metadata": {},
   "outputs": [
    {
     "name": "stdout",
     "output_type": "stream",
     "text": [
      "Hello\n",
      "Good Morning\n"
     ]
    }
   ],
   "source": [
    "# write()\n",
    "# writelines() method....writing multiple string\n",
    "f=open(\"Test_file.txt\",\"w\")\n",
    "s='''Hello\n",
    "Good Morning'''\n",
    "f.writelines(s)\n",
    "f.close()\n",
    "\n",
    "\n",
    "# Reading the written File\n",
    "f=open('Test_File.txt','r')\n",
    "print(f.read())\n",
    "f.close()"
   ]
  },
  {
   "cell_type": "code",
   "execution_count": 5,
   "metadata": {},
   "outputs": [
    {
     "name": "stdout",
     "output_type": "stream",
     "text": [
      "Enter text, press * in the last line to terminate\n",
      "hi\n",
      "bye\n",
      "no\n",
      "\n"
     ]
    }
   ],
   "source": [
    "f = open(\"File1.txt\",'w')\n",
    "print(\"Enter text, press * in the last line to terminate\")\n",
    "s = \"\"\n",
    "while s!= '*':\n",
    "    s = input()\n",
    "    if s != '*':\n",
    "        f.write(s+\"\\n\")\n",
    "\n",
    "f.close()\n",
    "f = open(\"File1.txt\",'r')\n",
    "data = f.read()\n",
    "print(data)\n",
    "f.close()\n",
    "\n"
   ]
  },
  {
   "cell_type": "code",
   "execution_count": 6,
   "metadata": {},
   "outputs": [
    {
     "name": "stdout",
     "output_type": "stream",
     "text": [
      "Apple\n",
      "Cherry\n",
      "Banana\n",
      "Grapes\n"
     ]
    }
   ],
   "source": [
    "f = open(\"abcd.txt\",'w')\n",
    "list = [\"Apple\\n\", \"Cherry\\n\",\"Banana\\n\",\"Grapes\"]\n",
    "f.writelines(list)\n",
    "f.close()\n",
    "f = open(\"abcd.txt\",'r')\n",
    "print(f.read())\n",
    "f.close()"
   ]
  },
  {
   "cell_type": "code",
   "execution_count": 17,
   "metadata": {},
   "outputs": [
    {
     "name": "stdout",
     "output_type": "stream",
     "text": [
      "<class 'str'>\n",
      "Apple\n",
      "Ch\n"
     ]
    }
   ],
   "source": [
    "f = open(\"abcd.txt\",'r')\n",
    "data = f.read(8)\n",
    "print(type(data))\n",
    "print(data)\n",
    "f.close()"
   ]
  },
  {
   "cell_type": "code",
   "execution_count": 23,
   "metadata": {},
   "outputs": [
    {
     "name": "stdout",
     "output_type": "stream",
     "text": [
      "Apple\n",
      "Cherry\n",
      "Banana\n"
     ]
    }
   ],
   "source": [
    "#readlines() To read data line by line, returns str\n",
    "f = open(\"abcd1.txt\",'w')\n",
    "list=[\"Apple\\n\",\"Cherry\\n\",\"Banana\\n\",\"Grapes\"]\n",
    "f.writelines(list)\n",
    "\n",
    "f = open(\"abcd1.txt\",'r')\n",
    "line1 = f.readline()\n",
    "print(line1,end ='')\n",
    "line2 = f.readline()\n",
    "print(line2,end ='')\n",
    "line3 = f.readline()\n",
    "print(line3,end ='')\n",
    "f.close()\n"
   ]
  },
  {
   "cell_type": "code",
   "execution_count": 26,
   "metadata": {},
   "outputs": [
    {
     "name": "stdout",
     "output_type": "stream",
     "text": [
      "['Apple\\n', 'Cherry\\n', 'Banana\\n', 'Grapes']\n",
      "Apple\n",
      "Cherry\n",
      "Banana\n",
      "Grapes"
     ]
    }
   ],
   "source": [
    "#readines() To read all lines into a list\n",
    "f = open(\"abcd.txt\",'r')\n",
    "lines = f.readlines()\n",
    "print(lines)\n",
    "for line in lines:\n",
    "    print(line,end='')\n",
    "f.close()"
   ]
  },
  {
   "cell_type": "code",
   "execution_count": 24,
   "metadata": {},
   "outputs": [
    {
     "name": "stdout",
     "output_type": "stream",
     "text": [
      "Welcome to the world of programming\n",
      "Happy Programming\n"
     ]
    }
   ],
   "source": [
    "with open(\"with_file.txt\",'w') as f:\n",
    "    f.write(\"Welcome to the world of programming\\n\")\n",
    "    f.write(\"Happy Programming\")\n",
    "with open(\"with_file.txt\",'r') as f:\n",
    "    print(f.read())"
   ]
  },
  {
   "cell_type": "code",
   "execution_count": 27,
   "metadata": {},
   "outputs": [
    {
     "name": "stdout",
     "output_type": "stream",
     "text": [
      "Have a nice day\n",
      "The current cursor position: 15\n",
      "The current cursor position: 7\n",
      "Data After Modification:\n",
      "Have a Good day\n"
     ]
    }
   ],
   "source": [
    "data = \"Have a nice day\"\n",
    "f = open(\"abcd.txt\",\"w\")\n",
    "f.write(data)\n",
    "with open (\"abcd.txt\",\"r+\") as f:\n",
    "    text=f.read()\n",
    "    print(text)\n",
    "    print(\"The current cursor position:\",f.tell())\n",
    "    f.seek(7)\n",
    "    print(\"The current cursor position:\",f.tell())\n",
    "    f.write(\"Good\")\n",
    "    f.seek(0)\n",
    "    text = f.read()\n",
    "    print(\"Data After Modification:\")\n",
    "    print(text)\n"
   ]
  },
  {
   "cell_type": "code",
   "execution_count": 2,
   "metadata": {},
   "outputs": [
    {
     "name": "stdout",
     "output_type": "stream",
     "text": [
      "This is a samaple file\n",
      "for r+ mode\n",
      "Overactingsamaple file\n",
      "for r+ mode\n"
     ]
    }
   ],
   "source": [
    "with open (\"Rplus_mode321.txt\", 'r+')as f:\n",
    "    f.write(\"This is a samaple file\\n\")\n",
    "    f.write(\"for r+ mode\")\n",
    "    f.seek(0)\n",
    "    print(f.read())\n",
    "    f.seek(0)\n",
    "    f.write(\"Overacting\")\n",
    "    f.seek(0)\n",
    "    print(f.read())"
   ]
  },
  {
   "cell_type": "code",
   "execution_count": 3,
   "metadata": {},
   "outputs": [
    {
     "name": "stdout",
     "output_type": "stream",
     "text": [
      "This is \n",
      "for a+ mode\n"
     ]
    }
   ],
   "source": [
    "with open(\"Wplus_mode321.txt\",'a+') as f:\n",
    "    f.write(\"This is \\n\")\n",
    "    f.write(\"for a+ mode\")\n",
    "    f.seek(0)\n",
    "    print(f.read())"
   ]
  },
  {
   "cell_type": "code",
   "execution_count": 19,
   "metadata": {},
   "outputs": [
    {
     "name": "stdout",
     "output_type": "stream",
     "text": [
      "0\n",
      "We\n",
      "2\n",
      "lco\n",
      "5\n"
     ]
    }
   ],
   "source": [
    "f = open(\"with_file.txt\",\"r\")\n",
    "print(f.tell())\n",
    "print(f.read(2))\n",
    "print(f.tell())\n",
    "print(f.read(3))\n",
    "print(f.tell())\n"
   ]
  },
  {
   "cell_type": "code",
   "execution_count": 5,
   "metadata": {},
   "outputs": [
    {
     "name": "stdout",
     "output_type": "stream",
     "text": [
      "finally\n"
     ]
    }
   ],
   "source": [
    "try:\n",
    "    x,y = input(\"Enter two num\").split()\n",
    "finally:\n",
    "    print('finally')"
   ]
  },
  {
   "cell_type": "code",
   "execution_count": 6,
   "metadata": {},
   "outputs": [
    {
     "ename": "ZeroDivisionError",
     "evalue": "division by zero",
     "output_type": "error",
     "traceback": [
      "\u001b[0;31m---------------------------------------------------------------------------\u001b[0m",
      "\u001b[0;31mZeroDivisionError\u001b[0m                         Traceback (most recent call last)",
      "Cell \u001b[0;32mIn[6], line 2\u001b[0m\n\u001b[1;32m      1\u001b[0m x,y \u001b[38;5;241m=\u001b[39m \u001b[38;5;241m10\u001b[39m,\u001b[38;5;241m0\u001b[39m\n\u001b[0;32m----> 2\u001b[0m \u001b[38;5;28mprint\u001b[39m(\u001b[43mx\u001b[49m\u001b[38;5;241;43m/\u001b[39;49m\u001b[43my\u001b[49m)\n",
      "\u001b[0;31mZeroDivisionError\u001b[0m: division by zero"
     ]
    }
   ],
   "source": [
    "x,y = 10,0\n",
    "print(x/y)"
   ]
  },
  {
   "cell_type": "code",
   "execution_count": 7,
   "metadata": {},
   "outputs": [
    {
     "name": "stdout",
     "output_type": "stream",
     "text": [
      "y should not be zero\n"
     ]
    }
   ],
   "source": [
    "try:\n",
    "    x,y = 10,0\n",
    "    print(x/y)\n",
    "except ZeroDivisionError:\n",
    "    print(\"y should not be zero\")"
   ]
  },
  {
   "cell_type": "code",
   "execution_count": 9,
   "metadata": {},
   "outputs": [
    {
     "name": "stdout",
     "output_type": "stream",
     "text": [
      "y should not be zero: division by zero\n"
     ]
    }
   ],
   "source": [
    "try:\n",
    "    x,y = 10,0\n",
    "    print(x/y)\n",
    "except ZeroDivisionError as msg:\n",
    "    print(\"y should not be zero:\", msg)"
   ]
  },
  {
   "cell_type": "code",
   "execution_count": 14,
   "metadata": {},
   "outputs": [
    {
     "name": "stdout",
     "output_type": "stream",
     "text": [
      "y should not be zero: division by zero\n"
     ]
    }
   ],
   "source": [
    "try:\n",
    "    x,y = input(\"Enter two num\").split()\n",
    "    x = int(x)\n",
    "    y = int(y)\n",
    "    print(x/y)\n",
    "except ZeroDivisionError as msg:\n",
    "    print(\"y should not be zero:\",msg)\n",
    "except ValueError as msg:\n",
    "    print(\"Type inappropriate:\", msg)"
   ]
  },
  {
   "cell_type": "code",
   "execution_count": 15,
   "metadata": {},
   "outputs": [
    {
     "name": "stdout",
     "output_type": "stream",
     "text": [
      "y should not be zero: division by zero\n"
     ]
    }
   ],
   "source": [
    "try:\n",
    "    x,y = input(\"Enter two num\").split()\n",
    "    x = int(x)\n",
    "    y = int(y)\n",
    "    print(x/y)\n",
    "except ZeroDivisionError as msg:\n",
    "    print(\"y should not be zero:\",msg)\n",
    "except ArithmeticError as msg:\n",
    "    print(\"Arthmetic:\", msg)"
   ]
  },
  {
   "cell_type": "code",
   "execution_count": 16,
   "metadata": {},
   "outputs": [
    {
     "name": "stdout",
     "output_type": "stream",
     "text": [
      "0.8571428571428571\n",
      "Other Errors\n"
     ]
    }
   ],
   "source": [
    "try:\n",
    "    x,y = input(\"Enter two num\").split()\n",
    "    x = int(x)\n",
    "    y = int(y)\n",
    "    print(x/y)\n",
    "    z = z%4\n",
    "    a = 'two'+1\n",
    "    a+=1\n",
    "except ZeroDivisionError as msg:\n",
    "    print(\"y should not be zero:\", msg)\n",
    "except ValueError as msg:\n",
    "    print(\"Type inappropriate\",msg)\n",
    "except:\n",
    "    print(\"Other Errors\")\n"
   ]
  },
  {
   "cell_type": "code",
   "execution_count": 17,
   "metadata": {},
   "outputs": [
    {
     "name": "stdout",
     "output_type": "stream",
     "text": [
      "0.4\n"
     ]
    }
   ],
   "source": [
    "try:\n",
    "    x,y = input(\"Enter two num\").split()\n",
    "    x = int(x)\n",
    "    y = int(y)\n",
    "    print(x/y)\n",
    "except(ZeroDivisionError, ValueError) as msg:\n",
    "    print(msg)"
   ]
  },
  {
   "cell_type": "code",
   "execution_count": 18,
   "metadata": {},
   "outputs": [
    {
     "name": "stdout",
     "output_type": "stream",
     "text": [
      "try\n",
      "except\n",
      "finally\n"
     ]
    }
   ],
   "source": [
    "try:\n",
    "    print(\"try\")\n",
    "    print(10/0)\n",
    "except:\n",
    "    print(\"except\")\n",
    "else:\n",
    "    print(\"else\")\n",
    "finally:\n",
    "    print(\"finally\")"
   ]
  },
  {
   "cell_type": "code",
   "execution_count": 19,
   "metadata": {},
   "outputs": [
    {
     "name": "stdout",
     "output_type": "stream",
     "text": [
      "try\n",
      "else\n",
      "finally\n"
     ]
    }
   ],
   "source": [
    "try:\n",
    "    print(\"try\")\n",
    "    #print(10/0)\n",
    "except:\n",
    "    print(\"except\")\n",
    "else:\n",
    "    print(\"else\")\n",
    "finally:\n",
    "    print(\"finally\")"
   ]
  },
  {
   "cell_type": "code",
   "execution_count": 20,
   "metadata": {},
   "outputs": [
    {
     "name": "stdout",
     "output_type": "stream",
     "text": [
      "Square of 5 is 25\n",
      "Square of 6 is 36\n"
     ]
    }
   ],
   "source": [
    "def square(a):\n",
    "    return a*a\n",
    "print(\"Square of 5 is\", square(5))\n",
    "s  = lambda n:n*n\n",
    "print(\"Square of 6 is\", s(6))"
   ]
  },
  {
   "cell_type": "code",
   "execution_count": 21,
   "metadata": {},
   "outputs": [
    {
     "name": "stdout",
     "output_type": "stream",
     "text": [
      "The sum of 1,2 is: 3\n"
     ]
    }
   ],
   "source": [
    "r = lambda a,b:a+b\n",
    "print(\"The sum of 1,2 is:\",r(1,2))"
   ]
  },
  {
   "cell_type": "code",
   "execution_count": 26,
   "metadata": {},
   "outputs": [
    {
     "name": "stdout",
     "output_type": "stream",
     "text": [
      "The biggest of 4,5 is : 5\n"
     ]
    }
   ],
   "source": [
    "s = lambda a,b:a if a>b else b\n",
    "print(\"The biggest of 4,5 is :\",s(4,5))"
   ]
  },
  {
   "cell_type": "code",
   "execution_count": 28,
   "metadata": {},
   "outputs": [
    {
     "name": "stdout",
     "output_type": "stream",
     "text": [
      "even\n",
      "odd\n"
     ]
    }
   ],
   "source": [
    "evenOdd = lambda x:'odd'if x%2 else 'even'\n",
    "print(evenOdd(4))\n",
    "print(evenOdd(9))"
   ]
  },
  {
   "cell_type": "code",
   "execution_count": 29,
   "metadata": {},
   "outputs": [
    {
     "name": "stdout",
     "output_type": "stream",
     "text": [
      "odd\n",
      "even\n"
     ]
    }
   ],
   "source": [
    "evenOdd = lambda x:'even'if x%2 else 'odd'\n",
    "print(evenOdd(4))\n",
    "print(evenOdd(9))"
   ]
  },
  {
   "cell_type": "code",
   "execution_count": 3,
   "metadata": {},
   "outputs": [
    {
     "name": "stdout",
     "output_type": "stream",
     "text": [
      "[1, 2, 3, 4, 1, 2, 3, 4]\n"
     ]
    }
   ],
   "source": [
    "#not understood\n",
    "def doubler(x):\n",
    "    return x*2\n",
    "L = [1,2,3,4]\n",
    "a = doubler(L)\n",
    "print(list(a))"
   ]
  },
  {
   "cell_type": "code",
   "execution_count": 4,
   "metadata": {},
   "outputs": [
    {
     "name": "stdout",
     "output_type": "stream",
     "text": [
      "<generator object my_gen at 0x1048ccf40>\n"
     ]
    }
   ],
   "source": [
    "def my_gen():\n",
    "    n = 1\n",
    "    yield n\n",
    "    n+=1\n",
    "    yield n\n",
    "    n+=1\n",
    "    yield n\n",
    "a = my_gen()\n",
    "print(a)"
   ]
  },
  {
   "cell_type": "code",
   "execution_count": 19,
   "metadata": {},
   "outputs": [
    {
     "name": "stdout",
     "output_type": "stream",
     "text": [
      "[1, 4, 9, 16, 25]\n"
     ]
    }
   ],
   "source": [
    "my_list=[1,2,3,4,5]\n",
    "print(list(x**2 for x in my_list))\n"
   ]
  },
  {
   "cell_type": "code",
   "execution_count": null,
   "metadata": {},
   "outputs": [],
   "source": []
  },
  {
   "cell_type": "code",
   "execution_count": null,
   "metadata": {},
   "outputs": [],
   "source": []
  },
  {
   "cell_type": "code",
   "execution_count": null,
   "metadata": {},
   "outputs": [],
   "source": []
  }
 ],
 "metadata": {
  "kernelspec": {
   "display_name": "Python 3",
   "language": "python",
   "name": "python3"
  },
  "language_info": {
   "codemirror_mode": {
    "name": "ipython",
    "version": 3
   },
   "file_extension": ".py",
   "mimetype": "text/x-python",
   "name": "python",
   "nbconvert_exporter": "python",
   "pygments_lexer": "ipython3",
   "version": "3.12.6"
  }
 },
 "nbformat": 4,
 "nbformat_minor": 2
}
